{
 "cells": [
  {
   "cell_type": "markdown",
   "metadata": {},
   "source": [
    "# Airline Passenger Satisfaction"
   ]
  },
  {
   "cell_type": "markdown",
   "metadata": {},
   "source": [
    "Este conjunto de datos contiene una encuesta de satisfacción de los pasajeros de las aerolíneas.\n",
    " ¿Qué factores están altamente correlacionados con un pasajero satisfecho (o insatisfecho)?\n",
    "\n",
    "Gender: Género de los pasajeros (Femenino, Masculino)\n",
    "\n",
    "Customer Type: El tipo de cliente (Cliente leal, cliente desleal)\n",
    "\n",
    "Age: La edad real de los pasajeros\n",
    "\n",
    "Type of Travel: Propósito del vuelo de los pasajeros (Viaje personal, Viaje de negocios)\n",
    "\n",
    "Class: Clase de viaje en el avión de los pasajeros (Business, Eco, Eco Plus)\n",
    "\n",
    "Flight Distance: La distancia de vuelo de este viaje\n",
    "\n",
    "Inflight wifi service: Nivel de satisfacción del servicio wifi a bordo (0:No aplica;1-5)\n",
    "\n",
    "Departure/Arrival time convenient: Nivel de satisfacción con respecto a la conveniencia de la hora de salida/llegada\n",
    "\n",
    "Ease of Online booking: Nivel de satisfacción de la reserva en línea\n",
    "\n",
    "Gate location: Nivel de satisfacción de la ubicación de la puerta\n",
    "\n",
    "Food and drink: Nivel de satisfacción de la comida y la bebida\n",
    "\n",
    "Seat comfort: Nivel de satisfacción del embarque en línea\n",
    "\n",
    "Online boarding: Nivel de satisfacción de la comodidad del asiento\n",
    "\n",
    "Inflight entertainment: Nivel de satisfacción del entretenimiento a bordo\n",
    "\n",
    "On-board service: Nivel de satisfacción del servicio a bordo\n",
    "\n",
    "Leg room service: Nivel de satisfacción del servicio en la sala de espera\n",
    "\n",
    "Baggage handling: Nivel de satisfacción del servicio de equipaje\n",
    "\n",
    "Check-in service: Nivel de satisfacción del servicio de facturación\n",
    "\n",
    "Inflight service: Nivel de satisfacción del servicio a bordo\n",
    "\n",
    "Cleanliness: Nivel de satisfacción de la limpieza\n",
    "\n",
    "Departure Delay in Minutes: Minutos de retraso a la salida\n",
    "\n",
    "Arrival Delay in Minutes: Minutos de retraso a la llegada\n",
    "\n",
    "Satisfaction: Nivel de satisfacción de la aerolínea (Satisfacción, neutral o insatisfacción)\n",
    "\n"
   ]
  },
  {
   "cell_type": "markdown",
   "metadata": {},
   "source": [
    "Los datos utilizados para este modelo de Machine Learning provienen de un dataset de Kaggle en el siguiente enlace:https://www.kaggle.com/datasets/teejmahal20/airline-passenger-satisfaction"
   ]
  },
  {
   "cell_type": "code",
   "execution_count": 123,
   "metadata": {},
   "outputs": [],
   "source": [
    "import pandas as pd\n",
    "import numpy as np\n",
    "import matplotlib.pyplot as plt\n",
    "import seaborn as sns"
   ]
  },
  {
   "cell_type": "markdown",
   "metadata": {},
   "source": [
    "## Get the Data"
   ]
  },
  {
   "cell_type": "code",
   "execution_count": 124,
   "metadata": {},
   "outputs": [],
   "source": [
    "df1=pd.read_csv(\"avion train.csv\")\n",
    "df2=pd.read_csv(\"avion test.csv\") "
   ]
  },
  {
   "cell_type": "code",
   "execution_count": 125,
   "metadata": {},
   "outputs": [
    {
     "data": {
      "text/html": [
       "<div>\n",
       "<style scoped>\n",
       "    .dataframe tbody tr th:only-of-type {\n",
       "        vertical-align: middle;\n",
       "    }\n",
       "\n",
       "    .dataframe tbody tr th {\n",
       "        vertical-align: top;\n",
       "    }\n",
       "\n",
       "    .dataframe thead th {\n",
       "        text-align: right;\n",
       "    }\n",
       "</style>\n",
       "<table border=\"1\" class=\"dataframe\">\n",
       "  <thead>\n",
       "    <tr style=\"text-align: right;\">\n",
       "      <th></th>\n",
       "      <th>id</th>\n",
       "      <th>Gender</th>\n",
       "      <th>Customer Type</th>\n",
       "      <th>Age</th>\n",
       "      <th>Type of Travel</th>\n",
       "      <th>Class</th>\n",
       "      <th>Flight Distance</th>\n",
       "      <th>Inflight wifi service</th>\n",
       "      <th>Departure/Arrival time convenient</th>\n",
       "      <th>Ease of Online booking</th>\n",
       "      <th>...</th>\n",
       "      <th>Inflight entertainment</th>\n",
       "      <th>On-board service</th>\n",
       "      <th>Leg room service</th>\n",
       "      <th>Baggage handling</th>\n",
       "      <th>Checkin service</th>\n",
       "      <th>Inflight service</th>\n",
       "      <th>Cleanliness</th>\n",
       "      <th>Departure Delay in Minutes</th>\n",
       "      <th>Arrival Delay in Minutes</th>\n",
       "      <th>satisfaction</th>\n",
       "    </tr>\n",
       "  </thead>\n",
       "  <tbody>\n",
       "    <tr>\n",
       "      <th>0</th>\n",
       "      <td>70172</td>\n",
       "      <td>Male</td>\n",
       "      <td>Loyal Customer</td>\n",
       "      <td>13</td>\n",
       "      <td>Personal Travel</td>\n",
       "      <td>Eco Plus</td>\n",
       "      <td>460</td>\n",
       "      <td>3</td>\n",
       "      <td>4</td>\n",
       "      <td>3</td>\n",
       "      <td>...</td>\n",
       "      <td>5</td>\n",
       "      <td>4</td>\n",
       "      <td>3</td>\n",
       "      <td>4</td>\n",
       "      <td>4</td>\n",
       "      <td>5</td>\n",
       "      <td>5</td>\n",
       "      <td>25</td>\n",
       "      <td>18.0</td>\n",
       "      <td>neutral or dissatisfied</td>\n",
       "    </tr>\n",
       "    <tr>\n",
       "      <th>1</th>\n",
       "      <td>5047</td>\n",
       "      <td>Male</td>\n",
       "      <td>disloyal Customer</td>\n",
       "      <td>25</td>\n",
       "      <td>Business travel</td>\n",
       "      <td>Business</td>\n",
       "      <td>235</td>\n",
       "      <td>3</td>\n",
       "      <td>2</td>\n",
       "      <td>3</td>\n",
       "      <td>...</td>\n",
       "      <td>1</td>\n",
       "      <td>1</td>\n",
       "      <td>5</td>\n",
       "      <td>3</td>\n",
       "      <td>1</td>\n",
       "      <td>4</td>\n",
       "      <td>1</td>\n",
       "      <td>1</td>\n",
       "      <td>6.0</td>\n",
       "      <td>neutral or dissatisfied</td>\n",
       "    </tr>\n",
       "    <tr>\n",
       "      <th>2</th>\n",
       "      <td>110028</td>\n",
       "      <td>Female</td>\n",
       "      <td>Loyal Customer</td>\n",
       "      <td>26</td>\n",
       "      <td>Business travel</td>\n",
       "      <td>Business</td>\n",
       "      <td>1142</td>\n",
       "      <td>2</td>\n",
       "      <td>2</td>\n",
       "      <td>2</td>\n",
       "      <td>...</td>\n",
       "      <td>5</td>\n",
       "      <td>4</td>\n",
       "      <td>3</td>\n",
       "      <td>4</td>\n",
       "      <td>4</td>\n",
       "      <td>4</td>\n",
       "      <td>5</td>\n",
       "      <td>0</td>\n",
       "      <td>0.0</td>\n",
       "      <td>satisfied</td>\n",
       "    </tr>\n",
       "    <tr>\n",
       "      <th>3</th>\n",
       "      <td>24026</td>\n",
       "      <td>Female</td>\n",
       "      <td>Loyal Customer</td>\n",
       "      <td>25</td>\n",
       "      <td>Business travel</td>\n",
       "      <td>Business</td>\n",
       "      <td>562</td>\n",
       "      <td>2</td>\n",
       "      <td>5</td>\n",
       "      <td>5</td>\n",
       "      <td>...</td>\n",
       "      <td>2</td>\n",
       "      <td>2</td>\n",
       "      <td>5</td>\n",
       "      <td>3</td>\n",
       "      <td>1</td>\n",
       "      <td>4</td>\n",
       "      <td>2</td>\n",
       "      <td>11</td>\n",
       "      <td>9.0</td>\n",
       "      <td>neutral or dissatisfied</td>\n",
       "    </tr>\n",
       "    <tr>\n",
       "      <th>4</th>\n",
       "      <td>119299</td>\n",
       "      <td>Male</td>\n",
       "      <td>Loyal Customer</td>\n",
       "      <td>61</td>\n",
       "      <td>Business travel</td>\n",
       "      <td>Business</td>\n",
       "      <td>214</td>\n",
       "      <td>3</td>\n",
       "      <td>3</td>\n",
       "      <td>3</td>\n",
       "      <td>...</td>\n",
       "      <td>3</td>\n",
       "      <td>3</td>\n",
       "      <td>4</td>\n",
       "      <td>4</td>\n",
       "      <td>3</td>\n",
       "      <td>3</td>\n",
       "      <td>3</td>\n",
       "      <td>0</td>\n",
       "      <td>0.0</td>\n",
       "      <td>satisfied</td>\n",
       "    </tr>\n",
       "  </tbody>\n",
       "</table>\n",
       "<p>5 rows × 24 columns</p>\n",
       "</div>"
      ],
      "text/plain": [
       "       id  Gender      Customer Type  Age   Type of Travel     Class  \\\n",
       "0   70172    Male     Loyal Customer   13  Personal Travel  Eco Plus   \n",
       "1    5047    Male  disloyal Customer   25  Business travel  Business   \n",
       "2  110028  Female     Loyal Customer   26  Business travel  Business   \n",
       "3   24026  Female     Loyal Customer   25  Business travel  Business   \n",
       "4  119299    Male     Loyal Customer   61  Business travel  Business   \n",
       "\n",
       "   Flight Distance  Inflight wifi service  Departure/Arrival time convenient  \\\n",
       "0              460                      3                                  4   \n",
       "1              235                      3                                  2   \n",
       "2             1142                      2                                  2   \n",
       "3              562                      2                                  5   \n",
       "4              214                      3                                  3   \n",
       "\n",
       "   Ease of Online booking  ...  Inflight entertainment  On-board service  \\\n",
       "0                       3  ...                       5                 4   \n",
       "1                       3  ...                       1                 1   \n",
       "2                       2  ...                       5                 4   \n",
       "3                       5  ...                       2                 2   \n",
       "4                       3  ...                       3                 3   \n",
       "\n",
       "   Leg room service  Baggage handling  Checkin service  Inflight service  \\\n",
       "0                 3                 4                4                 5   \n",
       "1                 5                 3                1                 4   \n",
       "2                 3                 4                4                 4   \n",
       "3                 5                 3                1                 4   \n",
       "4                 4                 4                3                 3   \n",
       "\n",
       "   Cleanliness  Departure Delay in Minutes  Arrival Delay in Minutes  \\\n",
       "0            5                          25                      18.0   \n",
       "1            1                           1                       6.0   \n",
       "2            5                           0                       0.0   \n",
       "3            2                          11                       9.0   \n",
       "4            3                           0                       0.0   \n",
       "\n",
       "              satisfaction  \n",
       "0  neutral or dissatisfied  \n",
       "1  neutral or dissatisfied  \n",
       "2                satisfied  \n",
       "3  neutral or dissatisfied  \n",
       "4                satisfied  \n",
       "\n",
       "[5 rows x 24 columns]"
      ]
     },
     "execution_count": 125,
     "metadata": {},
     "output_type": "execute_result"
    }
   ],
   "source": [
    "df3=pd.concat([df1, df2], axis=0)\n",
    "df=df3.drop(columns=[\"Unnamed: 0\"],axis=1)\n",
    "df.head()"
   ]
  },
  {
   "cell_type": "markdown",
   "metadata": {},
   "source": []
  },
  {
   "cell_type": "code",
   "execution_count": 126,
   "metadata": {},
   "outputs": [
    {
     "name": "stdout",
     "output_type": "stream",
     "text": [
      "<class 'pandas.core.frame.DataFrame'>\n",
      "Int64Index: 129880 entries, 0 to 25975\n",
      "Data columns (total 24 columns):\n",
      " #   Column                             Non-Null Count   Dtype  \n",
      "---  ------                             --------------   -----  \n",
      " 0   id                                 129880 non-null  int64  \n",
      " 1   Gender                             129880 non-null  object \n",
      " 2   Customer Type                      129880 non-null  object \n",
      " 3   Age                                129880 non-null  int64  \n",
      " 4   Type of Travel                     129880 non-null  object \n",
      " 5   Class                              129880 non-null  object \n",
      " 6   Flight Distance                    129880 non-null  int64  \n",
      " 7   Inflight wifi service              129880 non-null  int64  \n",
      " 8   Departure/Arrival time convenient  129880 non-null  int64  \n",
      " 9   Ease of Online booking             129880 non-null  int64  \n",
      " 10  Gate location                      129880 non-null  int64  \n",
      " 11  Food and drink                     129880 non-null  int64  \n",
      " 12  Online boarding                    129880 non-null  int64  \n",
      " 13  Seat comfort                       129880 non-null  int64  \n",
      " 14  Inflight entertainment             129880 non-null  int64  \n",
      " 15  On-board service                   129880 non-null  int64  \n",
      " 16  Leg room service                   129880 non-null  int64  \n",
      " 17  Baggage handling                   129880 non-null  int64  \n",
      " 18  Checkin service                    129880 non-null  int64  \n",
      " 19  Inflight service                   129880 non-null  int64  \n",
      " 20  Cleanliness                        129880 non-null  int64  \n",
      " 21  Departure Delay in Minutes         129880 non-null  int64  \n",
      " 22  Arrival Delay in Minutes           129487 non-null  float64\n",
      " 23  satisfaction                       129880 non-null  object \n",
      "dtypes: float64(1), int64(18), object(5)\n",
      "memory usage: 24.8+ MB\n"
     ]
    }
   ],
   "source": [
    "df.info()"
   ]
  },
  {
   "cell_type": "code",
   "execution_count": 127,
   "metadata": {},
   "outputs": [
    {
     "data": {
      "text/html": [
       "<div>\n",
       "<style scoped>\n",
       "    .dataframe tbody tr th:only-of-type {\n",
       "        vertical-align: middle;\n",
       "    }\n",
       "\n",
       "    .dataframe tbody tr th {\n",
       "        vertical-align: top;\n",
       "    }\n",
       "\n",
       "    .dataframe thead th {\n",
       "        text-align: right;\n",
       "    }\n",
       "</style>\n",
       "<table border=\"1\" class=\"dataframe\">\n",
       "  <thead>\n",
       "    <tr style=\"text-align: right;\">\n",
       "      <th></th>\n",
       "      <th>id</th>\n",
       "      <th>Age</th>\n",
       "      <th>Flight Distance</th>\n",
       "      <th>Inflight wifi service</th>\n",
       "      <th>Departure/Arrival time convenient</th>\n",
       "      <th>Ease of Online booking</th>\n",
       "      <th>Gate location</th>\n",
       "      <th>Food and drink</th>\n",
       "      <th>Online boarding</th>\n",
       "      <th>Seat comfort</th>\n",
       "      <th>Inflight entertainment</th>\n",
       "      <th>On-board service</th>\n",
       "      <th>Leg room service</th>\n",
       "      <th>Baggage handling</th>\n",
       "      <th>Checkin service</th>\n",
       "      <th>Inflight service</th>\n",
       "      <th>Cleanliness</th>\n",
       "      <th>Departure Delay in Minutes</th>\n",
       "      <th>Arrival Delay in Minutes</th>\n",
       "    </tr>\n",
       "  </thead>\n",
       "  <tbody>\n",
       "    <tr>\n",
       "      <th>count</th>\n",
       "      <td>129880.000000</td>\n",
       "      <td>129880.000000</td>\n",
       "      <td>129880.000000</td>\n",
       "      <td>129880.000000</td>\n",
       "      <td>129880.000000</td>\n",
       "      <td>129880.000000</td>\n",
       "      <td>129880.000000</td>\n",
       "      <td>129880.000000</td>\n",
       "      <td>129880.000000</td>\n",
       "      <td>129880.000000</td>\n",
       "      <td>129880.000000</td>\n",
       "      <td>129880.000000</td>\n",
       "      <td>129880.000000</td>\n",
       "      <td>129880.000000</td>\n",
       "      <td>129880.000000</td>\n",
       "      <td>129880.000000</td>\n",
       "      <td>129880.000000</td>\n",
       "      <td>129880.000000</td>\n",
       "      <td>129487.000000</td>\n",
       "    </tr>\n",
       "    <tr>\n",
       "      <th>mean</th>\n",
       "      <td>64940.500000</td>\n",
       "      <td>39.427957</td>\n",
       "      <td>1190.316392</td>\n",
       "      <td>2.728696</td>\n",
       "      <td>3.057599</td>\n",
       "      <td>2.756876</td>\n",
       "      <td>2.976925</td>\n",
       "      <td>3.204774</td>\n",
       "      <td>3.252633</td>\n",
       "      <td>3.441361</td>\n",
       "      <td>3.358077</td>\n",
       "      <td>3.383023</td>\n",
       "      <td>3.350878</td>\n",
       "      <td>3.632114</td>\n",
       "      <td>3.306267</td>\n",
       "      <td>3.642193</td>\n",
       "      <td>3.286326</td>\n",
       "      <td>14.713713</td>\n",
       "      <td>15.091129</td>\n",
       "    </tr>\n",
       "    <tr>\n",
       "      <th>std</th>\n",
       "      <td>37493.270818</td>\n",
       "      <td>15.119360</td>\n",
       "      <td>997.452477</td>\n",
       "      <td>1.329340</td>\n",
       "      <td>1.526741</td>\n",
       "      <td>1.401740</td>\n",
       "      <td>1.278520</td>\n",
       "      <td>1.329933</td>\n",
       "      <td>1.350719</td>\n",
       "      <td>1.319289</td>\n",
       "      <td>1.334049</td>\n",
       "      <td>1.287099</td>\n",
       "      <td>1.316252</td>\n",
       "      <td>1.180025</td>\n",
       "      <td>1.266185</td>\n",
       "      <td>1.176669</td>\n",
       "      <td>1.313682</td>\n",
       "      <td>38.071126</td>\n",
       "      <td>38.465650</td>\n",
       "    </tr>\n",
       "    <tr>\n",
       "      <th>min</th>\n",
       "      <td>1.000000</td>\n",
       "      <td>7.000000</td>\n",
       "      <td>31.000000</td>\n",
       "      <td>0.000000</td>\n",
       "      <td>0.000000</td>\n",
       "      <td>0.000000</td>\n",
       "      <td>0.000000</td>\n",
       "      <td>0.000000</td>\n",
       "      <td>0.000000</td>\n",
       "      <td>0.000000</td>\n",
       "      <td>0.000000</td>\n",
       "      <td>0.000000</td>\n",
       "      <td>0.000000</td>\n",
       "      <td>1.000000</td>\n",
       "      <td>0.000000</td>\n",
       "      <td>0.000000</td>\n",
       "      <td>0.000000</td>\n",
       "      <td>0.000000</td>\n",
       "      <td>0.000000</td>\n",
       "    </tr>\n",
       "    <tr>\n",
       "      <th>25%</th>\n",
       "      <td>32470.750000</td>\n",
       "      <td>27.000000</td>\n",
       "      <td>414.000000</td>\n",
       "      <td>2.000000</td>\n",
       "      <td>2.000000</td>\n",
       "      <td>2.000000</td>\n",
       "      <td>2.000000</td>\n",
       "      <td>2.000000</td>\n",
       "      <td>2.000000</td>\n",
       "      <td>2.000000</td>\n",
       "      <td>2.000000</td>\n",
       "      <td>2.000000</td>\n",
       "      <td>2.000000</td>\n",
       "      <td>3.000000</td>\n",
       "      <td>3.000000</td>\n",
       "      <td>3.000000</td>\n",
       "      <td>2.000000</td>\n",
       "      <td>0.000000</td>\n",
       "      <td>0.000000</td>\n",
       "    </tr>\n",
       "    <tr>\n",
       "      <th>50%</th>\n",
       "      <td>64940.500000</td>\n",
       "      <td>40.000000</td>\n",
       "      <td>844.000000</td>\n",
       "      <td>3.000000</td>\n",
       "      <td>3.000000</td>\n",
       "      <td>3.000000</td>\n",
       "      <td>3.000000</td>\n",
       "      <td>3.000000</td>\n",
       "      <td>3.000000</td>\n",
       "      <td>4.000000</td>\n",
       "      <td>4.000000</td>\n",
       "      <td>4.000000</td>\n",
       "      <td>4.000000</td>\n",
       "      <td>4.000000</td>\n",
       "      <td>3.000000</td>\n",
       "      <td>4.000000</td>\n",
       "      <td>3.000000</td>\n",
       "      <td>0.000000</td>\n",
       "      <td>0.000000</td>\n",
       "    </tr>\n",
       "    <tr>\n",
       "      <th>75%</th>\n",
       "      <td>97410.250000</td>\n",
       "      <td>51.000000</td>\n",
       "      <td>1744.000000</td>\n",
       "      <td>4.000000</td>\n",
       "      <td>4.000000</td>\n",
       "      <td>4.000000</td>\n",
       "      <td>4.000000</td>\n",
       "      <td>4.000000</td>\n",
       "      <td>4.000000</td>\n",
       "      <td>5.000000</td>\n",
       "      <td>4.000000</td>\n",
       "      <td>4.000000</td>\n",
       "      <td>4.000000</td>\n",
       "      <td>5.000000</td>\n",
       "      <td>4.000000</td>\n",
       "      <td>5.000000</td>\n",
       "      <td>4.000000</td>\n",
       "      <td>12.000000</td>\n",
       "      <td>13.000000</td>\n",
       "    </tr>\n",
       "    <tr>\n",
       "      <th>max</th>\n",
       "      <td>129880.000000</td>\n",
       "      <td>85.000000</td>\n",
       "      <td>4983.000000</td>\n",
       "      <td>5.000000</td>\n",
       "      <td>5.000000</td>\n",
       "      <td>5.000000</td>\n",
       "      <td>5.000000</td>\n",
       "      <td>5.000000</td>\n",
       "      <td>5.000000</td>\n",
       "      <td>5.000000</td>\n",
       "      <td>5.000000</td>\n",
       "      <td>5.000000</td>\n",
       "      <td>5.000000</td>\n",
       "      <td>5.000000</td>\n",
       "      <td>5.000000</td>\n",
       "      <td>5.000000</td>\n",
       "      <td>5.000000</td>\n",
       "      <td>1592.000000</td>\n",
       "      <td>1584.000000</td>\n",
       "    </tr>\n",
       "  </tbody>\n",
       "</table>\n",
       "</div>"
      ],
      "text/plain": [
       "                  id            Age  Flight Distance  Inflight wifi service  \\\n",
       "count  129880.000000  129880.000000    129880.000000          129880.000000   \n",
       "mean    64940.500000      39.427957      1190.316392               2.728696   \n",
       "std     37493.270818      15.119360       997.452477               1.329340   \n",
       "min         1.000000       7.000000        31.000000               0.000000   \n",
       "25%     32470.750000      27.000000       414.000000               2.000000   \n",
       "50%     64940.500000      40.000000       844.000000               3.000000   \n",
       "75%     97410.250000      51.000000      1744.000000               4.000000   \n",
       "max    129880.000000      85.000000      4983.000000               5.000000   \n",
       "\n",
       "       Departure/Arrival time convenient  Ease of Online booking  \\\n",
       "count                      129880.000000           129880.000000   \n",
       "mean                            3.057599                2.756876   \n",
       "std                             1.526741                1.401740   \n",
       "min                             0.000000                0.000000   \n",
       "25%                             2.000000                2.000000   \n",
       "50%                             3.000000                3.000000   \n",
       "75%                             4.000000                4.000000   \n",
       "max                             5.000000                5.000000   \n",
       "\n",
       "       Gate location  Food and drink  Online boarding   Seat comfort  \\\n",
       "count  129880.000000   129880.000000    129880.000000  129880.000000   \n",
       "mean        2.976925        3.204774         3.252633       3.441361   \n",
       "std         1.278520        1.329933         1.350719       1.319289   \n",
       "min         0.000000        0.000000         0.000000       0.000000   \n",
       "25%         2.000000        2.000000         2.000000       2.000000   \n",
       "50%         3.000000        3.000000         3.000000       4.000000   \n",
       "75%         4.000000        4.000000         4.000000       5.000000   \n",
       "max         5.000000        5.000000         5.000000       5.000000   \n",
       "\n",
       "       Inflight entertainment  On-board service  Leg room service  \\\n",
       "count           129880.000000     129880.000000     129880.000000   \n",
       "mean                 3.358077          3.383023          3.350878   \n",
       "std                  1.334049          1.287099          1.316252   \n",
       "min                  0.000000          0.000000          0.000000   \n",
       "25%                  2.000000          2.000000          2.000000   \n",
       "50%                  4.000000          4.000000          4.000000   \n",
       "75%                  4.000000          4.000000          4.000000   \n",
       "max                  5.000000          5.000000          5.000000   \n",
       "\n",
       "       Baggage handling  Checkin service  Inflight service    Cleanliness  \\\n",
       "count     129880.000000    129880.000000     129880.000000  129880.000000   \n",
       "mean           3.632114         3.306267          3.642193       3.286326   \n",
       "std            1.180025         1.266185          1.176669       1.313682   \n",
       "min            1.000000         0.000000          0.000000       0.000000   \n",
       "25%            3.000000         3.000000          3.000000       2.000000   \n",
       "50%            4.000000         3.000000          4.000000       3.000000   \n",
       "75%            5.000000         4.000000          5.000000       4.000000   \n",
       "max            5.000000         5.000000          5.000000       5.000000   \n",
       "\n",
       "       Departure Delay in Minutes  Arrival Delay in Minutes  \n",
       "count               129880.000000             129487.000000  \n",
       "mean                    14.713713                 15.091129  \n",
       "std                     38.071126                 38.465650  \n",
       "min                      0.000000                  0.000000  \n",
       "25%                      0.000000                  0.000000  \n",
       "50%                      0.000000                  0.000000  \n",
       "75%                     12.000000                 13.000000  \n",
       "max                   1592.000000               1584.000000  "
      ]
     },
     "execution_count": 127,
     "metadata": {},
     "output_type": "execute_result"
    }
   ],
   "source": [
    "df.describe()"
   ]
  },
  {
   "cell_type": "markdown",
   "metadata": {},
   "source": [
    "## Exploratory Data Analysis"
   ]
  },
  {
   "cell_type": "code",
   "execution_count": 128,
   "metadata": {},
   "outputs": [
    {
     "data": {
      "text/plain": [
       "neutral or dissatisfied    73452\n",
       "satisfied                  56428\n",
       "Name: satisfaction, dtype: int64"
      ]
     },
     "execution_count": 128,
     "metadata": {},
     "output_type": "execute_result"
    }
   ],
   "source": [
    "data=df[\"satisfaction\"].value_counts()\n",
    "data"
   ]
  },
  {
   "cell_type": "code",
   "execution_count": 129,
   "metadata": {},
   "outputs": [
    {
     "data": {
      "image/png": "[encoded data removed]",
      "text/plain": [
       "<Figure size 216x216 with 1 Axes>"
      ]
     },
     "metadata": {},
     "output_type": "display_data"
    }
   ],
   "source": [
    "plt.figure(figsize=(3,3))\n",
    "plt.pie(data.values,\n",
    "        labels=data.index,\n",
    "        autopct='%1.2f%%')\n",
    "plt.title('Recuento de valores de los pasajeros satisfechos')\n",
    "plt.gcf();"
   ]
  },
  {
   "cell_type": "markdown",
   "metadata": {},
   "source": [
    "note:los pasajeros neutrales o insatisfechos son 13.1% más que los satisfechos "
   ]
  },
  {
   "cell_type": "markdown",
   "metadata": {},
   "source": [
    "### Por sexo"
   ]
  },
  {
   "cell_type": "code",
   "execution_count": 130,
   "metadata": {},
   "outputs": [
    {
     "data": {
      "text/html": [
       "<div>\n",
       "<style scoped>\n",
       "    .dataframe tbody tr th:only-of-type {\n",
       "        vertical-align: middle;\n",
       "    }\n",
       "\n",
       "    .dataframe tbody tr th {\n",
       "        vertical-align: top;\n",
       "    }\n",
       "\n",
       "    .dataframe thead th {\n",
       "        text-align: right;\n",
       "    }\n",
       "</style>\n",
       "<table border=\"1\" class=\"dataframe\">\n",
       "  <thead>\n",
       "    <tr style=\"text-align: right;\">\n",
       "      <th></th>\n",
       "      <th></th>\n",
       "      <th>satisfaction</th>\n",
       "    </tr>\n",
       "    <tr>\n",
       "      <th>satisfaction</th>\n",
       "      <th>Gender</th>\n",
       "      <th></th>\n",
       "    </tr>\n",
       "  </thead>\n",
       "  <tbody>\n",
       "    <tr>\n",
       "      <th rowspan=\"2\" valign=\"top\">neutral or dissatisfied</th>\n",
       "      <th>Female</th>\n",
       "      <td>37630</td>\n",
       "    </tr>\n",
       "    <tr>\n",
       "      <th>Male</th>\n",
       "      <td>35822</td>\n",
       "    </tr>\n",
       "    <tr>\n",
       "      <th rowspan=\"2\" valign=\"top\">satisfied</th>\n",
       "      <th>Female</th>\n",
       "      <td>28269</td>\n",
       "    </tr>\n",
       "    <tr>\n",
       "      <th>Male</th>\n",
       "      <td>28159</td>\n",
       "    </tr>\n",
       "  </tbody>\n",
       "</table>\n",
       "</div>"
      ],
      "text/plain": [
       "                                satisfaction\n",
       "satisfaction            Gender              \n",
       "neutral or dissatisfied Female         37630\n",
       "                        Male           35822\n",
       "satisfied               Female         28269\n",
       "                        Male           28159"
      ]
     },
     "execution_count": 130,
     "metadata": {},
     "output_type": "execute_result"
    }
   ],
   "source": [
    "df_sexo=df.groupby(['satisfaction','Gender'])[[\"satisfaction\"]].count()\n",
    "df_sexo"
   ]
  },
  {
   "cell_type": "code",
   "execution_count": 131,
   "metadata": {},
   "outputs": [
    {
     "data": {
      "image/png": "[encoded data removed]",
      "text/plain": [
       "<Figure size 505.125x360 with 1 Axes>"
      ]
     },
     "metadata": {
      "needs_background": "light"
     },
     "output_type": "display_data"
    }
   ],
   "source": [
    "sns.catplot(x=\"Gender\",\n",
    "            hue=\"satisfaction\",\n",
    "            kind=\"count\",\n",
    "            data=df,\n",
    "            edgecolor=\".6\",\n",
    "            orient = \"H\",\n",
    "            ci=None\n",
    "            );"
   ]
  },
  {
   "cell_type": "markdown",
   "metadata": {},
   "source": [
    "note:los hombres y las mujeres son casi el mismo, lo que lleva a que su correlación con la satisfacción del pasajero sea baja"
   ]
  },
  {
   "cell_type": "markdown",
   "metadata": {},
   "source": [
    "### Por edad"
   ]
  },
  {
   "cell_type": "code",
   "execution_count": 132,
   "metadata": {},
   "outputs": [],
   "source": [
    "#df_edad=df.groupby(['Age',\"satisfaction\"])[[\"satisfaction\"]].count()\n",
    "#df_edad"
   ]
  },
  {
   "cell_type": "code",
   "execution_count": 133,
   "metadata": {},
   "outputs": [
    {
     "data": {
      "text/plain": [
       "count    129880.000000\n",
       "mean         39.427957\n",
       "std          15.119360\n",
       "min           7.000000\n",
       "25%          27.000000\n",
       "50%          40.000000\n",
       "75%          51.000000\n",
       "max          85.000000\n",
       "Name: Age, dtype: float64"
      ]
     },
     "execution_count": 133,
     "metadata": {},
     "output_type": "execute_result"
    }
   ],
   "source": [
    "df['Age'].describe()"
   ]
  },
  {
   "cell_type": "code",
   "execution_count": 134,
   "metadata": {},
   "outputs": [
    {
     "data": {
      "image/png": "[encoded data removed]",
      "text/plain": [
       "<Figure size 504x504 with 1 Axes>"
      ]
     },
     "metadata": {
      "needs_background": "light"
     },
     "output_type": "display_data"
    }
   ],
   "source": [
    "sns.displot(data = df['Age'], palette='mako', kde=True, height = 7)\n",
    "plt.title('Distribucion de edad');"
   ]
  },
  {
   "cell_type": "markdown",
   "metadata": {},
   "source": [
    "note:El principal grupo objetivo está entre los 20 y los 60 años"
   ]
  },
  {
   "cell_type": "markdown",
   "metadata": {},
   "source": [
    "### Por la distancia de vuelo"
   ]
  },
  {
   "cell_type": "code",
   "execution_count": 135,
   "metadata": {},
   "outputs": [
    {
     "data": {
      "text/plain": [
       "count    129880.000000\n",
       "mean       1190.316392\n",
       "std         997.452477\n",
       "min          31.000000\n",
       "25%         414.000000\n",
       "50%         844.000000\n",
       "75%        1744.000000\n",
       "max        4983.000000\n",
       "Name: Flight Distance, dtype: float64"
      ]
     },
     "execution_count": 135,
     "metadata": {},
     "output_type": "execute_result"
    }
   ],
   "source": [
    "df['Flight Distance'].describe()"
   ]
  },
  {
   "cell_type": "code",
   "execution_count": 136,
   "metadata": {},
   "outputs": [
    {
     "data": {
      "image/png": "[encoded data removed]",
      "text/plain": [
       "<Figure size 504x504 with 1 Axes>"
      ]
     },
     "metadata": {
      "needs_background": "light"
     },
     "output_type": "display_data"
    }
   ],
   "source": [
    "sns.displot(data = df['Flight Distance'], palette='mako', kde=True, height = 7)\n",
    "plt.title('Distribucion de la distancia de vuelo');"
   ]
  },
  {
   "cell_type": "markdown",
   "metadata": {},
   "source": [
    "note:Se concentra principalmente en vuelos de pequeña distancia, ya que el recuento de kilómetros de los vuelos de pequeños distancia es mucho mayor que el de los demás."
   ]
  },
  {
   "cell_type": "markdown",
   "metadata": {},
   "source": [
    "### Por el tipo de cliente"
   ]
  },
  {
   "cell_type": "code",
   "execution_count": 137,
   "metadata": {},
   "outputs": [
    {
     "data": {
      "text/html": [
       "<div>\n",
       "<style scoped>\n",
       "    .dataframe tbody tr th:only-of-type {\n",
       "        vertical-align: middle;\n",
       "    }\n",
       "\n",
       "    .dataframe tbody tr th {\n",
       "        vertical-align: top;\n",
       "    }\n",
       "\n",
       "    .dataframe thead th {\n",
       "        text-align: right;\n",
       "    }\n",
       "</style>\n",
       "<table border=\"1\" class=\"dataframe\">\n",
       "  <thead>\n",
       "    <tr style=\"text-align: right;\">\n",
       "      <th></th>\n",
       "      <th></th>\n",
       "      <th>satisfaction</th>\n",
       "    </tr>\n",
       "    <tr>\n",
       "      <th>satisfaction</th>\n",
       "      <th>Customer Type</th>\n",
       "      <th></th>\n",
       "    </tr>\n",
       "  </thead>\n",
       "  <tbody>\n",
       "    <tr>\n",
       "      <th rowspan=\"2\" valign=\"top\">neutral or dissatisfied</th>\n",
       "      <th>Loyal Customer</th>\n",
       "      <td>55372</td>\n",
       "    </tr>\n",
       "    <tr>\n",
       "      <th>disloyal Customer</th>\n",
       "      <td>18080</td>\n",
       "    </tr>\n",
       "    <tr>\n",
       "      <th rowspan=\"2\" valign=\"top\">satisfied</th>\n",
       "      <th>Loyal Customer</th>\n",
       "      <td>50728</td>\n",
       "    </tr>\n",
       "    <tr>\n",
       "      <th>disloyal Customer</th>\n",
       "      <td>5700</td>\n",
       "    </tr>\n",
       "  </tbody>\n",
       "</table>\n",
       "</div>"
      ],
      "text/plain": [
       "                                           satisfaction\n",
       "satisfaction            Customer Type                  \n",
       "neutral or dissatisfied Loyal Customer            55372\n",
       "                        disloyal Customer         18080\n",
       "satisfied               Loyal Customer            50728\n",
       "                        disloyal Customer          5700"
      ]
     },
     "execution_count": 137,
     "metadata": {},
     "output_type": "execute_result"
    }
   ],
   "source": [
    "df_cus=df.groupby(['satisfaction','Customer Type'])[[\"satisfaction\"]].count()\n",
    "df_cus"
   ]
  },
  {
   "cell_type": "code",
   "execution_count": 138,
   "metadata": {},
   "outputs": [
    {
     "data": {
      "image/png": "[encoded data removed]",
      "text/plain": [
       "<Figure size 505.125x360 with 1 Axes>"
      ]
     },
     "metadata": {
      "needs_background": "light"
     },
     "output_type": "display_data"
    }
   ],
   "source": [
    "sns.catplot(x=\"Customer Type\",\n",
    "            hue=\"satisfaction\",\n",
    "            kind=\"count\",\n",
    "            data=df,\n",
    "            edgecolor=\".6\",\n",
    "            orient = \"H\",\n",
    "            ci=None\n",
    "            );\n",
    "plt.title('la característica de tipo de cliente');"
   ]
  },
  {
   "cell_type": "markdown",
   "metadata": {},
   "source": [
    "note: Clientes leales mucho más que clientes desleales, pero entre los clientes leales la insatisfacción es mayor que la satisfacción."
   ]
  },
  {
   "cell_type": "markdown",
   "metadata": {},
   "source": [
    "### Por el tipo de viaje"
   ]
  },
  {
   "cell_type": "code",
   "execution_count": 139,
   "metadata": {},
   "outputs": [
    {
     "data": {
      "text/html": [
       "<div>\n",
       "<style scoped>\n",
       "    .dataframe tbody tr th:only-of-type {\n",
       "        vertical-align: middle;\n",
       "    }\n",
       "\n",
       "    .dataframe tbody tr th {\n",
       "        vertical-align: top;\n",
       "    }\n",
       "\n",
       "    .dataframe thead th {\n",
       "        text-align: right;\n",
       "    }\n",
       "</style>\n",
       "<table border=\"1\" class=\"dataframe\">\n",
       "  <thead>\n",
       "    <tr style=\"text-align: right;\">\n",
       "      <th></th>\n",
       "      <th></th>\n",
       "      <th>satisfaction</th>\n",
       "    </tr>\n",
       "    <tr>\n",
       "      <th>satisfaction</th>\n",
       "      <th>Type of Travel</th>\n",
       "      <th></th>\n",
       "    </tr>\n",
       "  </thead>\n",
       "  <tbody>\n",
       "    <tr>\n",
       "      <th rowspan=\"2\" valign=\"top\">neutral or dissatisfied</th>\n",
       "      <th>Business travel</th>\n",
       "      <td>37337</td>\n",
       "    </tr>\n",
       "    <tr>\n",
       "      <th>Personal Travel</th>\n",
       "      <td>36115</td>\n",
       "    </tr>\n",
       "    <tr>\n",
       "      <th rowspan=\"2\" valign=\"top\">satisfied</th>\n",
       "      <th>Business travel</th>\n",
       "      <td>52356</td>\n",
       "    </tr>\n",
       "    <tr>\n",
       "      <th>Personal Travel</th>\n",
       "      <td>4072</td>\n",
       "    </tr>\n",
       "  </tbody>\n",
       "</table>\n",
       "</div>"
      ],
      "text/plain": [
       "                                         satisfaction\n",
       "satisfaction            Type of Travel               \n",
       "neutral or dissatisfied Business travel         37337\n",
       "                        Personal Travel         36115\n",
       "satisfied               Business travel         52356\n",
       "                        Personal Travel          4072"
      ]
     },
     "execution_count": 139,
     "metadata": {},
     "output_type": "execute_result"
    }
   ],
   "source": [
    "df_cus=df.groupby(['satisfaction','Type of Travel'])[[\"satisfaction\"]].count()\n",
    "df_cus"
   ]
  },
  {
   "cell_type": "code",
   "execution_count": 140,
   "metadata": {},
   "outputs": [
    {
     "data": {
      "image/png": "[encoded data removed]",
      "text/plain": [
       "<Figure size 505.125x360 with 1 Axes>"
      ]
     },
     "metadata": {
      "needs_background": "light"
     },
     "output_type": "display_data"
    }
   ],
   "source": [
    "sns.catplot(x=\"Type of Travel\",\n",
    "            hue=\"satisfaction\",\n",
    "            kind=\"count\",\n",
    "            data=df,\n",
    "            edgecolor=\".6\",\n",
    "            orient = \"H\",\n",
    "            ci=None\n",
    "            );\n",
    "plt.title('la característica de tipo de viaje');"
   ]
  },
  {
   "cell_type": "markdown",
   "metadata": {},
   "source": [
    "note:\n",
    "Viajes de negocios más que personales.\n",
    "\n",
    "En los viajes de negocios, los clientes satisfechos son mucho más que los insatisfechos y eso es muy bueno, pero el número de clientes insatisfechos no es bajo.\n",
    "\n",
    "En los viajes de personales,La satisfacción con los viajes personales es demasiado baja y esto es un problema."
   ]
  },
  {
   "cell_type": "markdown",
   "metadata": {},
   "source": [
    "### Por clase"
   ]
  },
  {
   "cell_type": "code",
   "execution_count": 141,
   "metadata": {},
   "outputs": [
    {
     "data": {
      "text/html": [
       "<div>\n",
       "<style scoped>\n",
       "    .dataframe tbody tr th:only-of-type {\n",
       "        vertical-align: middle;\n",
       "    }\n",
       "\n",
       "    .dataframe tbody tr th {\n",
       "        vertical-align: top;\n",
       "    }\n",
       "\n",
       "    .dataframe thead th {\n",
       "        text-align: right;\n",
       "    }\n",
       "</style>\n",
       "<table border=\"1\" class=\"dataframe\">\n",
       "  <thead>\n",
       "    <tr style=\"text-align: right;\">\n",
       "      <th></th>\n",
       "      <th></th>\n",
       "      <th>satisfaction</th>\n",
       "    </tr>\n",
       "    <tr>\n",
       "      <th>satisfaction</th>\n",
       "      <th>Class</th>\n",
       "      <th></th>\n",
       "    </tr>\n",
       "  </thead>\n",
       "  <tbody>\n",
       "    <tr>\n",
       "      <th rowspan=\"3\" valign=\"top\">neutral or dissatisfied</th>\n",
       "      <th>Business</th>\n",
       "      <td>18994</td>\n",
       "    </tr>\n",
       "    <tr>\n",
       "      <th>Eco</th>\n",
       "      <td>47366</td>\n",
       "    </tr>\n",
       "    <tr>\n",
       "      <th>Eco Plus</th>\n",
       "      <td>7092</td>\n",
       "    </tr>\n",
       "    <tr>\n",
       "      <th rowspan=\"3\" valign=\"top\">satisfied</th>\n",
       "      <th>Business</th>\n",
       "      <td>43166</td>\n",
       "    </tr>\n",
       "    <tr>\n",
       "      <th>Eco</th>\n",
       "      <td>10943</td>\n",
       "    </tr>\n",
       "    <tr>\n",
       "      <th>Eco Plus</th>\n",
       "      <td>2319</td>\n",
       "    </tr>\n",
       "  </tbody>\n",
       "</table>\n",
       "</div>"
      ],
      "text/plain": [
       "                                  satisfaction\n",
       "satisfaction            Class                 \n",
       "neutral or dissatisfied Business         18994\n",
       "                        Eco              47366\n",
       "                        Eco Plus          7092\n",
       "satisfied               Business         43166\n",
       "                        Eco              10943\n",
       "                        Eco Plus          2319"
      ]
     },
     "execution_count": 141,
     "metadata": {},
     "output_type": "execute_result"
    }
   ],
   "source": [
    "df_clase=df.groupby(['satisfaction','Class'])[[\"satisfaction\"]].count()\n",
    "df_clase"
   ]
  },
  {
   "cell_type": "code",
   "execution_count": 142,
   "metadata": {},
   "outputs": [
    {
     "data": {
      "image/png": "[encoded data removed]",
      "text/plain": [
       "<Figure size 505.125x360 with 1 Axes>"
      ]
     },
     "metadata": {
      "needs_background": "light"
     },
     "output_type": "display_data"
    }
   ],
   "source": [
    "sns.catplot(x=\"Class\",\n",
    "            hue=\"satisfaction\",\n",
    "            kind=\"count\",\n",
    "            data=df,\n",
    "            edgecolor=\".6\",\n",
    "            orient = \"H\",\n",
    "            ci=None\n",
    "            );\n",
    "plt.title('la clase');"
   ]
  },
  {
   "cell_type": "markdown",
   "metadata": {},
   "source": []
  },
  {
   "cell_type": "markdown",
   "metadata": {},
   "source": [
    "note: Casi nadie utiliza la clase Eco Plus. genenalmente se seleciona Eco."
   ]
  },
  {
   "cell_type": "markdown",
   "metadata": {},
   "source": [
    "## Data processing"
   ]
  },
  {
   "cell_type": "code",
   "execution_count": 143,
   "metadata": {},
   "outputs": [
    {
     "data": {
      "text/html": [
       "<div>\n",
       "<style scoped>\n",
       "    .dataframe tbody tr th:only-of-type {\n",
       "        vertical-align: middle;\n",
       "    }\n",
       "\n",
       "    .dataframe tbody tr th {\n",
       "        vertical-align: top;\n",
       "    }\n",
       "\n",
       "    .dataframe thead th {\n",
       "        text-align: right;\n",
       "    }\n",
       "</style>\n",
       "<table border=\"1\" class=\"dataframe\">\n",
       "  <thead>\n",
       "    <tr style=\"text-align: right;\">\n",
       "      <th></th>\n",
       "      <th>id</th>\n",
       "      <th>Age</th>\n",
       "      <th>Flight Distance</th>\n",
       "      <th>Inflight wifi service</th>\n",
       "      <th>Departure/Arrival time convenient</th>\n",
       "      <th>Ease of Online booking</th>\n",
       "      <th>Gate location</th>\n",
       "      <th>Food and drink</th>\n",
       "      <th>Online boarding</th>\n",
       "      <th>Seat comfort</th>\n",
       "      <th>Inflight entertainment</th>\n",
       "      <th>On-board service</th>\n",
       "      <th>Leg room service</th>\n",
       "      <th>Baggage handling</th>\n",
       "      <th>Checkin service</th>\n",
       "      <th>Inflight service</th>\n",
       "      <th>Cleanliness</th>\n",
       "      <th>Departure Delay in Minutes</th>\n",
       "      <th>Arrival Delay in Minutes</th>\n",
       "    </tr>\n",
       "  </thead>\n",
       "  <tbody>\n",
       "    <tr>\n",
       "      <th>count</th>\n",
       "      <td>129880.000000</td>\n",
       "      <td>129880.000000</td>\n",
       "      <td>129880.000000</td>\n",
       "      <td>129880.000000</td>\n",
       "      <td>129880.000000</td>\n",
       "      <td>129880.000000</td>\n",
       "      <td>129880.000000</td>\n",
       "      <td>129880.000000</td>\n",
       "      <td>129880.000000</td>\n",
       "      <td>129880.000000</td>\n",
       "      <td>129880.000000</td>\n",
       "      <td>129880.000000</td>\n",
       "      <td>129880.000000</td>\n",
       "      <td>129880.000000</td>\n",
       "      <td>129880.000000</td>\n",
       "      <td>129880.000000</td>\n",
       "      <td>129880.000000</td>\n",
       "      <td>129880.000000</td>\n",
       "      <td>129487.000000</td>\n",
       "    </tr>\n",
       "    <tr>\n",
       "      <th>mean</th>\n",
       "      <td>64940.500000</td>\n",
       "      <td>39.427957</td>\n",
       "      <td>1190.316392</td>\n",
       "      <td>2.728696</td>\n",
       "      <td>3.057599</td>\n",
       "      <td>2.756876</td>\n",
       "      <td>2.976925</td>\n",
       "      <td>3.204774</td>\n",
       "      <td>3.252633</td>\n",
       "      <td>3.441361</td>\n",
       "      <td>3.358077</td>\n",
       "      <td>3.383023</td>\n",
       "      <td>3.350878</td>\n",
       "      <td>3.632114</td>\n",
       "      <td>3.306267</td>\n",
       "      <td>3.642193</td>\n",
       "      <td>3.286326</td>\n",
       "      <td>14.713713</td>\n",
       "      <td>15.091129</td>\n",
       "    </tr>\n",
       "    <tr>\n",
       "      <th>std</th>\n",
       "      <td>37493.270818</td>\n",
       "      <td>15.119360</td>\n",
       "      <td>997.452477</td>\n",
       "      <td>1.329340</td>\n",
       "      <td>1.526741</td>\n",
       "      <td>1.401740</td>\n",
       "      <td>1.278520</td>\n",
       "      <td>1.329933</td>\n",
       "      <td>1.350719</td>\n",
       "      <td>1.319289</td>\n",
       "      <td>1.334049</td>\n",
       "      <td>1.287099</td>\n",
       "      <td>1.316252</td>\n",
       "      <td>1.180025</td>\n",
       "      <td>1.266185</td>\n",
       "      <td>1.176669</td>\n",
       "      <td>1.313682</td>\n",
       "      <td>38.071126</td>\n",
       "      <td>38.465650</td>\n",
       "    </tr>\n",
       "    <tr>\n",
       "      <th>min</th>\n",
       "      <td>1.000000</td>\n",
       "      <td>7.000000</td>\n",
       "      <td>31.000000</td>\n",
       "      <td>0.000000</td>\n",
       "      <td>0.000000</td>\n",
       "      <td>0.000000</td>\n",
       "      <td>0.000000</td>\n",
       "      <td>0.000000</td>\n",
       "      <td>0.000000</td>\n",
       "      <td>0.000000</td>\n",
       "      <td>0.000000</td>\n",
       "      <td>0.000000</td>\n",
       "      <td>0.000000</td>\n",
       "      <td>1.000000</td>\n",
       "      <td>0.000000</td>\n",
       "      <td>0.000000</td>\n",
       "      <td>0.000000</td>\n",
       "      <td>0.000000</td>\n",
       "      <td>0.000000</td>\n",
       "    </tr>\n",
       "    <tr>\n",
       "      <th>25%</th>\n",
       "      <td>32470.750000</td>\n",
       "      <td>27.000000</td>\n",
       "      <td>414.000000</td>\n",
       "      <td>2.000000</td>\n",
       "      <td>2.000000</td>\n",
       "      <td>2.000000</td>\n",
       "      <td>2.000000</td>\n",
       "      <td>2.000000</td>\n",
       "      <td>2.000000</td>\n",
       "      <td>2.000000</td>\n",
       "      <td>2.000000</td>\n",
       "      <td>2.000000</td>\n",
       "      <td>2.000000</td>\n",
       "      <td>3.000000</td>\n",
       "      <td>3.000000</td>\n",
       "      <td>3.000000</td>\n",
       "      <td>2.000000</td>\n",
       "      <td>0.000000</td>\n",
       "      <td>0.000000</td>\n",
       "    </tr>\n",
       "    <tr>\n",
       "      <th>50%</th>\n",
       "      <td>64940.500000</td>\n",
       "      <td>40.000000</td>\n",
       "      <td>844.000000</td>\n",
       "      <td>3.000000</td>\n",
       "      <td>3.000000</td>\n",
       "      <td>3.000000</td>\n",
       "      <td>3.000000</td>\n",
       "      <td>3.000000</td>\n",
       "      <td>3.000000</td>\n",
       "      <td>4.000000</td>\n",
       "      <td>4.000000</td>\n",
       "      <td>4.000000</td>\n",
       "      <td>4.000000</td>\n",
       "      <td>4.000000</td>\n",
       "      <td>3.000000</td>\n",
       "      <td>4.000000</td>\n",
       "      <td>3.000000</td>\n",
       "      <td>0.000000</td>\n",
       "      <td>0.000000</td>\n",
       "    </tr>\n",
       "    <tr>\n",
       "      <th>75%</th>\n",
       "      <td>97410.250000</td>\n",
       "      <td>51.000000</td>\n",
       "      <td>1744.000000</td>\n",
       "      <td>4.000000</td>\n",
       "      <td>4.000000</td>\n",
       "      <td>4.000000</td>\n",
       "      <td>4.000000</td>\n",
       "      <td>4.000000</td>\n",
       "      <td>4.000000</td>\n",
       "      <td>5.000000</td>\n",
       "      <td>4.000000</td>\n",
       "      <td>4.000000</td>\n",
       "      <td>4.000000</td>\n",
       "      <td>5.000000</td>\n",
       "      <td>4.000000</td>\n",
       "      <td>5.000000</td>\n",
       "      <td>4.000000</td>\n",
       "      <td>12.000000</td>\n",
       "      <td>13.000000</td>\n",
       "    </tr>\n",
       "    <tr>\n",
       "      <th>max</th>\n",
       "      <td>129880.000000</td>\n",
       "      <td>85.000000</td>\n",
       "      <td>4983.000000</td>\n",
       "      <td>5.000000</td>\n",
       "      <td>5.000000</td>\n",
       "      <td>5.000000</td>\n",
       "      <td>5.000000</td>\n",
       "      <td>5.000000</td>\n",
       "      <td>5.000000</td>\n",
       "      <td>5.000000</td>\n",
       "      <td>5.000000</td>\n",
       "      <td>5.000000</td>\n",
       "      <td>5.000000</td>\n",
       "      <td>5.000000</td>\n",
       "      <td>5.000000</td>\n",
       "      <td>5.000000</td>\n",
       "      <td>5.000000</td>\n",
       "      <td>1592.000000</td>\n",
       "      <td>1584.000000</td>\n",
       "    </tr>\n",
       "  </tbody>\n",
       "</table>\n",
       "</div>"
      ],
      "text/plain": [
       "                  id            Age  Flight Distance  Inflight wifi service  \\\n",
       "count  129880.000000  129880.000000    129880.000000          129880.000000   \n",
       "mean    64940.500000      39.427957      1190.316392               2.728696   \n",
       "std     37493.270818      15.119360       997.452477               1.329340   \n",
       "min         1.000000       7.000000        31.000000               0.000000   \n",
       "25%     32470.750000      27.000000       414.000000               2.000000   \n",
       "50%     64940.500000      40.000000       844.000000               3.000000   \n",
       "75%     97410.250000      51.000000      1744.000000               4.000000   \n",
       "max    129880.000000      85.000000      4983.000000               5.000000   \n",
       "\n",
       "       Departure/Arrival time convenient  Ease of Online booking  \\\n",
       "count                      129880.000000           129880.000000   \n",
       "mean                            3.057599                2.756876   \n",
       "std                             1.526741                1.401740   \n",
       "min                             0.000000                0.000000   \n",
       "25%                             2.000000                2.000000   \n",
       "50%                             3.000000                3.000000   \n",
       "75%                             4.000000                4.000000   \n",
       "max                             5.000000                5.000000   \n",
       "\n",
       "       Gate location  Food and drink  Online boarding   Seat comfort  \\\n",
       "count  129880.000000   129880.000000    129880.000000  129880.000000   \n",
       "mean        2.976925        3.204774         3.252633       3.441361   \n",
       "std         1.278520        1.329933         1.350719       1.319289   \n",
       "min         0.000000        0.000000         0.000000       0.000000   \n",
       "25%         2.000000        2.000000         2.000000       2.000000   \n",
       "50%         3.000000        3.000000         3.000000       4.000000   \n",
       "75%         4.000000        4.000000         4.000000       5.000000   \n",
       "max         5.000000        5.000000         5.000000       5.000000   \n",
       "\n",
       "       Inflight entertainment  On-board service  Leg room service  \\\n",
       "count           129880.000000     129880.000000     129880.000000   \n",
       "mean                 3.358077          3.383023          3.350878   \n",
       "std                  1.334049          1.287099          1.316252   \n",
       "min                  0.000000          0.000000          0.000000   \n",
       "25%                  2.000000          2.000000          2.000000   \n",
       "50%                  4.000000          4.000000          4.000000   \n",
       "75%                  4.000000          4.000000          4.000000   \n",
       "max                  5.000000          5.000000          5.000000   \n",
       "\n",
       "       Baggage handling  Checkin service  Inflight service    Cleanliness  \\\n",
       "count     129880.000000    129880.000000     129880.000000  129880.000000   \n",
       "mean           3.632114         3.306267          3.642193       3.286326   \n",
       "std            1.180025         1.266185          1.176669       1.313682   \n",
       "min            1.000000         0.000000          0.000000       0.000000   \n",
       "25%            3.000000         3.000000          3.000000       2.000000   \n",
       "50%            4.000000         3.000000          4.000000       3.000000   \n",
       "75%            5.000000         4.000000          5.000000       4.000000   \n",
       "max            5.000000         5.000000          5.000000       5.000000   \n",
       "\n",
       "       Departure Delay in Minutes  Arrival Delay in Minutes  \n",
       "count               129880.000000             129487.000000  \n",
       "mean                    14.713713                 15.091129  \n",
       "std                     38.071126                 38.465650  \n",
       "min                      0.000000                  0.000000  \n",
       "25%                      0.000000                  0.000000  \n",
       "50%                      0.000000                  0.000000  \n",
       "75%                     12.000000                 13.000000  \n",
       "max                   1592.000000               1584.000000  "
      ]
     },
     "execution_count": 143,
     "metadata": {},
     "output_type": "execute_result"
    }
   ],
   "source": [
    "df.describe()"
   ]
  },
  {
   "cell_type": "markdown",
   "metadata": {},
   "source": [
    "Tratar los outliers"
   ]
  },
  {
   "cell_type": "code",
   "execution_count": 144,
   "metadata": {},
   "outputs": [
    {
     "name": "stderr",
     "output_type": "stream",
     "text": [
      "/Library/Frameworks/Python.framework/Versions/3.7/lib/python3.7/site-packages/seaborn/_decorators.py:43: FutureWarning: Pass the following variable as a keyword arg: x. From version 0.12, the only valid positional argument will be `data`, and passing other arguments without an explicit keyword will result in an error or misinterpretation.\n",
      "  FutureWarning\n"
     ]
    },
    {
     "data": {
      "image/png": "[encoded data removed]",
      "text/plain": [
       "<Figure size 1440x360 with 1 Axes>"
      ]
     },
     "metadata": {
      "needs_background": "light"
     },
     "output_type": "display_data"
    }
   ],
   "source": [
    "plt.figure(figsize=(20,5))\n",
    "sns.boxplot(df[\"Departure Delay in Minutes\"], color=\"sienna\");"
   ]
  },
  {
   "cell_type": "code",
   "execution_count": 145,
   "metadata": {},
   "outputs": [
    {
     "data": {
      "text/plain": [
       "count    129880.000000\n",
       "mean         14.713713\n",
       "std          38.071126\n",
       "min           0.000000\n",
       "1%            0.000000\n",
       "5%            0.000000\n",
       "10%           0.000000\n",
       "25%           0.000000\n",
       "50%           0.000000\n",
       "75%          12.000000\n",
       "90%          44.000000\n",
       "95%          77.000000\n",
       "97.5%       118.000000\n",
       "99%         180.000000\n",
       "max        1592.000000\n",
       "Name: Departure Delay in Minutes, dtype: float64"
      ]
     },
     "execution_count": 145,
     "metadata": {},
     "output_type": "execute_result"
    }
   ],
   "source": [
    "df['Departure Delay in Minutes'].describe(percentiles=[0.01,0.05,0.10,0.25,0.75,0.90,0.95,0.975,0.99])"
   ]
  },
  {
   "cell_type": "code",
   "execution_count": 146,
   "metadata": {},
   "outputs": [],
   "source": [
    "DepartureDelayinMinutes_upper = df['Departure Delay in Minutes'].quantile(0.99)\n",
    "df['Departure Delay in Minutes'] = np.where(df['Departure Delay in Minutes'] > DepartureDelayinMinutes_upper,DepartureDelayinMinutes_upper,df['Departure Delay in Minutes'])"
   ]
  },
  {
   "cell_type": "code",
   "execution_count": 147,
   "metadata": {},
   "outputs": [
    {
     "name": "stderr",
     "output_type": "stream",
     "text": [
      "/Library/Frameworks/Python.framework/Versions/3.7/lib/python3.7/site-packages/seaborn/_decorators.py:43: FutureWarning: Pass the following variable as a keyword arg: x. From version 0.12, the only valid positional argument will be `data`, and passing other arguments without an explicit keyword will result in an error or misinterpretation.\n",
      "  FutureWarning\n"
     ]
    },
    {
     "data": {
      "image/png": "[encoded data removed]",
      "text/plain": [
       "<Figure size 1440x360 with 1 Axes>"
      ]
     },
     "metadata": {
      "needs_background": "light"
     },
     "output_type": "display_data"
    }
   ],
   "source": [
    "plt.figure(figsize=(20,5))\n",
    "sns.boxplot(df[\"Arrival Delay in Minutes\"], color=\"sienna\");"
   ]
  },
  {
   "cell_type": "code",
   "execution_count": 148,
   "metadata": {},
   "outputs": [
    {
     "data": {
      "text/plain": [
       "count    129487.000000\n",
       "mean         15.091129\n",
       "std          38.465650\n",
       "min           0.000000\n",
       "1%            0.000000\n",
       "5%            0.000000\n",
       "10%           0.000000\n",
       "25%           0.000000\n",
       "50%           0.000000\n",
       "75%          13.000000\n",
       "90%          44.000000\n",
       "95%          78.000000\n",
       "97.5%       120.000000\n",
       "99%         182.000000\n",
       "max        1584.000000\n",
       "Name: Arrival Delay in Minutes, dtype: float64"
      ]
     },
     "execution_count": 148,
     "metadata": {},
     "output_type": "execute_result"
    }
   ],
   "source": [
    "df['Arrival Delay in Minutes'].describe(percentiles=[0.01,0.05,0.10,0.25,0.75,0.90,0.95,0.975,0.99])"
   ]
  },
  {
   "cell_type": "code",
   "execution_count": 149,
   "metadata": {},
   "outputs": [],
   "source": [
    "ArrivalDelayinMinutes_upper = df['Arrival Delay in Minutes'].quantile(0.99)\n",
    "df['Arrival Delay in Minutes'] = np.where(df['Arrival Delay in Minutes'] > ArrivalDelayinMinutes_upper,ArrivalDelayinMinutes_upper,df['Arrival Delay in Minutes'])"
   ]
  },
  {
   "cell_type": "markdown",
   "metadata": {},
   "source": [
    "Transformar algunas de las columnas"
   ]
  },
  {
   "cell_type": "code",
   "execution_count": 150,
   "metadata": {},
   "outputs": [
    {
     "name": "stdout",
     "output_type": "stream",
     "text": [
      "<class 'pandas.core.frame.DataFrame'>\n",
      "Int64Index: 129880 entries, 0 to 25975\n",
      "Data columns (total 24 columns):\n",
      " #   Column                             Non-Null Count   Dtype  \n",
      "---  ------                             --------------   -----  \n",
      " 0   id                                 129880 non-null  int64  \n",
      " 1   Gender                             129880 non-null  object \n",
      " 2   Customer Type                      129880 non-null  object \n",
      " 3   Age                                129880 non-null  int64  \n",
      " 4   Type of Travel                     129880 non-null  object \n",
      " 5   Class                              129880 non-null  object \n",
      " 6   Flight Distance                    129880 non-null  int64  \n",
      " 7   Inflight wifi service              129880 non-null  int64  \n",
      " 8   Departure/Arrival time convenient  129880 non-null  int64  \n",
      " 9   Ease of Online booking             129880 non-null  int64  \n",
      " 10  Gate location                      129880 non-null  int64  \n",
      " 11  Food and drink                     129880 non-null  int64  \n",
      " 12  Online boarding                    129880 non-null  int64  \n",
      " 13  Seat comfort                       129880 non-null  int64  \n",
      " 14  Inflight entertainment             129880 non-null  int64  \n",
      " 15  On-board service                   129880 non-null  int64  \n",
      " 16  Leg room service                   129880 non-null  int64  \n",
      " 17  Baggage handling                   129880 non-null  int64  \n",
      " 18  Checkin service                    129880 non-null  int64  \n",
      " 19  Inflight service                   129880 non-null  int64  \n",
      " 20  Cleanliness                        129880 non-null  int64  \n",
      " 21  Departure Delay in Minutes         129880 non-null  float64\n",
      " 22  Arrival Delay in Minutes           129487 non-null  float64\n",
      " 23  satisfaction                       129880 non-null  object \n",
      "dtypes: float64(2), int64(17), object(5)\n",
      "memory usage: 28.8+ MB\n"
     ]
    }
   ],
   "source": [
    "df.info()"
   ]
  },
  {
   "cell_type": "code",
   "execution_count": 151,
   "metadata": {},
   "outputs": [],
   "source": [
    "from sklearn.preprocessing import LabelEncoder\n",
    "\n",
    "le = LabelEncoder()"
   ]
  },
  {
   "cell_type": "code",
   "execution_count": 152,
   "metadata": {},
   "outputs": [],
   "source": [
    "le.fit(df['Gender'])\n",
    "df['Gender_encoded'] = le.transform(df['Gender'])"
   ]
  },
  {
   "cell_type": "code",
   "execution_count": 153,
   "metadata": {},
   "outputs": [],
   "source": [
    "dic = {'Loyal Customer' : 1, 'disloyal Customer': 0}\n",
    "df['Customer Type'] = df['Customer Type'].map(dic)"
   ]
  },
  {
   "cell_type": "code",
   "execution_count": 154,
   "metadata": {},
   "outputs": [],
   "source": [
    "dic = {'Business travel' : 1, 'Personal Travel': 0}\n",
    "df['Type of Travel'] = df['Type of Travel'].map(dic)"
   ]
  },
  {
   "cell_type": "code",
   "execution_count": 155,
   "metadata": {},
   "outputs": [],
   "source": [
    "dic = {'Business' : 2, 'Eco Plus': 1, 'Eco': 0}\n",
    "df['Class'] = df['Class'].map(dic)"
   ]
  },
  {
   "cell_type": "code",
   "execution_count": 156,
   "metadata": {},
   "outputs": [
    {
     "data": {
      "text/html": [
       "<div>\n",
       "<style scoped>\n",
       "    .dataframe tbody tr th:only-of-type {\n",
       "        vertical-align: middle;\n",
       "    }\n",
       "\n",
       "    .dataframe tbody tr th {\n",
       "        vertical-align: top;\n",
       "    }\n",
       "\n",
       "    .dataframe thead th {\n",
       "        text-align: right;\n",
       "    }\n",
       "</style>\n",
       "<table border=\"1\" class=\"dataframe\">\n",
       "  <thead>\n",
       "    <tr style=\"text-align: right;\">\n",
       "      <th></th>\n",
       "      <th>id</th>\n",
       "      <th>Gender</th>\n",
       "      <th>Customer Type</th>\n",
       "      <th>Age</th>\n",
       "      <th>Type of Travel</th>\n",
       "      <th>Class</th>\n",
       "      <th>Flight Distance</th>\n",
       "      <th>Inflight wifi service</th>\n",
       "      <th>Departure/Arrival time convenient</th>\n",
       "      <th>Ease of Online booking</th>\n",
       "      <th>...</th>\n",
       "      <th>On-board service</th>\n",
       "      <th>Leg room service</th>\n",
       "      <th>Baggage handling</th>\n",
       "      <th>Checkin service</th>\n",
       "      <th>Inflight service</th>\n",
       "      <th>Cleanliness</th>\n",
       "      <th>Departure Delay in Minutes</th>\n",
       "      <th>Arrival Delay in Minutes</th>\n",
       "      <th>satisfaction</th>\n",
       "      <th>Gender_encoded</th>\n",
       "    </tr>\n",
       "  </thead>\n",
       "  <tbody>\n",
       "    <tr>\n",
       "      <th>0</th>\n",
       "      <td>70172</td>\n",
       "      <td>Male</td>\n",
       "      <td>1</td>\n",
       "      <td>13</td>\n",
       "      <td>0</td>\n",
       "      <td>1</td>\n",
       "      <td>460</td>\n",
       "      <td>3</td>\n",
       "      <td>4</td>\n",
       "      <td>3</td>\n",
       "      <td>...</td>\n",
       "      <td>4</td>\n",
       "      <td>3</td>\n",
       "      <td>4</td>\n",
       "      <td>4</td>\n",
       "      <td>5</td>\n",
       "      <td>5</td>\n",
       "      <td>25.0</td>\n",
       "      <td>18.0</td>\n",
       "      <td>0</td>\n",
       "      <td>1</td>\n",
       "    </tr>\n",
       "    <tr>\n",
       "      <th>1</th>\n",
       "      <td>5047</td>\n",
       "      <td>Male</td>\n",
       "      <td>0</td>\n",
       "      <td>25</td>\n",
       "      <td>1</td>\n",
       "      <td>2</td>\n",
       "      <td>235</td>\n",
       "      <td>3</td>\n",
       "      <td>2</td>\n",
       "      <td>3</td>\n",
       "      <td>...</td>\n",
       "      <td>1</td>\n",
       "      <td>5</td>\n",
       "      <td>3</td>\n",
       "      <td>1</td>\n",
       "      <td>4</td>\n",
       "      <td>1</td>\n",
       "      <td>1.0</td>\n",
       "      <td>6.0</td>\n",
       "      <td>0</td>\n",
       "      <td>1</td>\n",
       "    </tr>\n",
       "    <tr>\n",
       "      <th>2</th>\n",
       "      <td>110028</td>\n",
       "      <td>Female</td>\n",
       "      <td>1</td>\n",
       "      <td>26</td>\n",
       "      <td>1</td>\n",
       "      <td>2</td>\n",
       "      <td>1142</td>\n",
       "      <td>2</td>\n",
       "      <td>2</td>\n",
       "      <td>2</td>\n",
       "      <td>...</td>\n",
       "      <td>4</td>\n",
       "      <td>3</td>\n",
       "      <td>4</td>\n",
       "      <td>4</td>\n",
       "      <td>4</td>\n",
       "      <td>5</td>\n",
       "      <td>0.0</td>\n",
       "      <td>0.0</td>\n",
       "      <td>1</td>\n",
       "      <td>0</td>\n",
       "    </tr>\n",
       "    <tr>\n",
       "      <th>3</th>\n",
       "      <td>24026</td>\n",
       "      <td>Female</td>\n",
       "      <td>1</td>\n",
       "      <td>25</td>\n",
       "      <td>1</td>\n",
       "      <td>2</td>\n",
       "      <td>562</td>\n",
       "      <td>2</td>\n",
       "      <td>5</td>\n",
       "      <td>5</td>\n",
       "      <td>...</td>\n",
       "      <td>2</td>\n",
       "      <td>5</td>\n",
       "      <td>3</td>\n",
       "      <td>1</td>\n",
       "      <td>4</td>\n",
       "      <td>2</td>\n",
       "      <td>11.0</td>\n",
       "      <td>9.0</td>\n",
       "      <td>0</td>\n",
       "      <td>0</td>\n",
       "    </tr>\n",
       "    <tr>\n",
       "      <th>4</th>\n",
       "      <td>119299</td>\n",
       "      <td>Male</td>\n",
       "      <td>1</td>\n",
       "      <td>61</td>\n",
       "      <td>1</td>\n",
       "      <td>2</td>\n",
       "      <td>214</td>\n",
       "      <td>3</td>\n",
       "      <td>3</td>\n",
       "      <td>3</td>\n",
       "      <td>...</td>\n",
       "      <td>3</td>\n",
       "      <td>4</td>\n",
       "      <td>4</td>\n",
       "      <td>3</td>\n",
       "      <td>3</td>\n",
       "      <td>3</td>\n",
       "      <td>0.0</td>\n",
       "      <td>0.0</td>\n",
       "      <td>1</td>\n",
       "      <td>1</td>\n",
       "    </tr>\n",
       "    <tr>\n",
       "      <th>...</th>\n",
       "      <td>...</td>\n",
       "      <td>...</td>\n",
       "      <td>...</td>\n",
       "      <td>...</td>\n",
       "      <td>...</td>\n",
       "      <td>...</td>\n",
       "      <td>...</td>\n",
       "      <td>...</td>\n",
       "      <td>...</td>\n",
       "      <td>...</td>\n",
       "      <td>...</td>\n",
       "      <td>...</td>\n",
       "      <td>...</td>\n",
       "      <td>...</td>\n",
       "      <td>...</td>\n",
       "      <td>...</td>\n",
       "      <td>...</td>\n",
       "      <td>...</td>\n",
       "      <td>...</td>\n",
       "      <td>...</td>\n",
       "      <td>...</td>\n",
       "    </tr>\n",
       "    <tr>\n",
       "      <th>25971</th>\n",
       "      <td>78463</td>\n",
       "      <td>Male</td>\n",
       "      <td>0</td>\n",
       "      <td>34</td>\n",
       "      <td>1</td>\n",
       "      <td>2</td>\n",
       "      <td>526</td>\n",
       "      <td>3</td>\n",
       "      <td>3</td>\n",
       "      <td>3</td>\n",
       "      <td>...</td>\n",
       "      <td>3</td>\n",
       "      <td>2</td>\n",
       "      <td>4</td>\n",
       "      <td>4</td>\n",
       "      <td>5</td>\n",
       "      <td>4</td>\n",
       "      <td>0.0</td>\n",
       "      <td>0.0</td>\n",
       "      <td>0</td>\n",
       "      <td>1</td>\n",
       "    </tr>\n",
       "    <tr>\n",
       "      <th>25972</th>\n",
       "      <td>71167</td>\n",
       "      <td>Male</td>\n",
       "      <td>1</td>\n",
       "      <td>23</td>\n",
       "      <td>1</td>\n",
       "      <td>2</td>\n",
       "      <td>646</td>\n",
       "      <td>4</td>\n",
       "      <td>4</td>\n",
       "      <td>4</td>\n",
       "      <td>...</td>\n",
       "      <td>4</td>\n",
       "      <td>5</td>\n",
       "      <td>5</td>\n",
       "      <td>5</td>\n",
       "      <td>5</td>\n",
       "      <td>4</td>\n",
       "      <td>0.0</td>\n",
       "      <td>0.0</td>\n",
       "      <td>1</td>\n",
       "      <td>1</td>\n",
       "    </tr>\n",
       "    <tr>\n",
       "      <th>25973</th>\n",
       "      <td>37675</td>\n",
       "      <td>Female</td>\n",
       "      <td>1</td>\n",
       "      <td>17</td>\n",
       "      <td>0</td>\n",
       "      <td>0</td>\n",
       "      <td>828</td>\n",
       "      <td>2</td>\n",
       "      <td>5</td>\n",
       "      <td>1</td>\n",
       "      <td>...</td>\n",
       "      <td>4</td>\n",
       "      <td>3</td>\n",
       "      <td>4</td>\n",
       "      <td>5</td>\n",
       "      <td>4</td>\n",
       "      <td>2</td>\n",
       "      <td>0.0</td>\n",
       "      <td>0.0</td>\n",
       "      <td>0</td>\n",
       "      <td>0</td>\n",
       "    </tr>\n",
       "    <tr>\n",
       "      <th>25974</th>\n",
       "      <td>90086</td>\n",
       "      <td>Male</td>\n",
       "      <td>1</td>\n",
       "      <td>14</td>\n",
       "      <td>1</td>\n",
       "      <td>2</td>\n",
       "      <td>1127</td>\n",
       "      <td>3</td>\n",
       "      <td>3</td>\n",
       "      <td>3</td>\n",
       "      <td>...</td>\n",
       "      <td>3</td>\n",
       "      <td>2</td>\n",
       "      <td>5</td>\n",
       "      <td>4</td>\n",
       "      <td>5</td>\n",
       "      <td>4</td>\n",
       "      <td>0.0</td>\n",
       "      <td>0.0</td>\n",
       "      <td>1</td>\n",
       "      <td>1</td>\n",
       "    </tr>\n",
       "    <tr>\n",
       "      <th>25975</th>\n",
       "      <td>34799</td>\n",
       "      <td>Female</td>\n",
       "      <td>1</td>\n",
       "      <td>42</td>\n",
       "      <td>0</td>\n",
       "      <td>0</td>\n",
       "      <td>264</td>\n",
       "      <td>2</td>\n",
       "      <td>5</td>\n",
       "      <td>2</td>\n",
       "      <td>...</td>\n",
       "      <td>1</td>\n",
       "      <td>2</td>\n",
       "      <td>1</td>\n",
       "      <td>1</td>\n",
       "      <td>1</td>\n",
       "      <td>1</td>\n",
       "      <td>0.0</td>\n",
       "      <td>0.0</td>\n",
       "      <td>0</td>\n",
       "      <td>0</td>\n",
       "    </tr>\n",
       "  </tbody>\n",
       "</table>\n",
       "<p>129880 rows × 25 columns</p>\n",
       "</div>"
      ],
      "text/plain": [
       "           id  Gender  Customer Type  Age  Type of Travel  Class  \\\n",
       "0       70172    Male              1   13               0      1   \n",
       "1        5047    Male              0   25               1      2   \n",
       "2      110028  Female              1   26               1      2   \n",
       "3       24026  Female              1   25               1      2   \n",
       "4      119299    Male              1   61               1      2   \n",
       "...       ...     ...            ...  ...             ...    ...   \n",
       "25971   78463    Male              0   34               1      2   \n",
       "25972   71167    Male              1   23               1      2   \n",
       "25973   37675  Female              1   17               0      0   \n",
       "25974   90086    Male              1   14               1      2   \n",
       "25975   34799  Female              1   42               0      0   \n",
       "\n",
       "       Flight Distance  Inflight wifi service  \\\n",
       "0                  460                      3   \n",
       "1                  235                      3   \n",
       "2                 1142                      2   \n",
       "3                  562                      2   \n",
       "4                  214                      3   \n",
       "...                ...                    ...   \n",
       "25971              526                      3   \n",
       "25972              646                      4   \n",
       "25973              828                      2   \n",
       "25974             1127                      3   \n",
       "25975              264                      2   \n",
       "\n",
       "       Departure/Arrival time convenient  Ease of Online booking  ...  \\\n",
       "0                                      4                       3  ...   \n",
       "1                                      2                       3  ...   \n",
       "2                                      2                       2  ...   \n",
       "3                                      5                       5  ...   \n",
       "4                                      3                       3  ...   \n",
       "...                                  ...                     ...  ...   \n",
       "25971                                  3                       3  ...   \n",
       "25972                                  4                       4  ...   \n",
       "25973                                  5                       1  ...   \n",
       "25974                                  3                       3  ...   \n",
       "25975                                  5                       2  ...   \n",
       "\n",
       "       On-board service  Leg room service  Baggage handling  Checkin service  \\\n",
       "0                     4                 3                 4                4   \n",
       "1                     1                 5                 3                1   \n",
       "2                     4                 3                 4                4   \n",
       "3                     2                 5                 3                1   \n",
       "4                     3                 4                 4                3   \n",
       "...                 ...               ...               ...              ...   \n",
       "25971                 3                 2                 4                4   \n",
       "25972                 4                 5                 5                5   \n",
       "25973                 4                 3                 4                5   \n",
       "25974                 3                 2                 5                4   \n",
       "25975                 1                 2                 1                1   \n",
       "\n",
       "       Inflight service  Cleanliness  Departure Delay in Minutes  \\\n",
       "0                     5            5                        25.0   \n",
       "1                     4            1                         1.0   \n",
       "2                     4            5                         0.0   \n",
       "3                     4            2                        11.0   \n",
       "4                     3            3                         0.0   \n",
       "...                 ...          ...                         ...   \n",
       "25971                 5            4                         0.0   \n",
       "25972                 5            4                         0.0   \n",
       "25973                 4            2                         0.0   \n",
       "25974                 5            4                         0.0   \n",
       "25975                 1            1                         0.0   \n",
       "\n",
       "       Arrival Delay in Minutes  satisfaction  Gender_encoded  \n",
       "0                          18.0             0               1  \n",
       "1                           6.0             0               1  \n",
       "2                           0.0             1               0  \n",
       "3                           9.0             0               0  \n",
       "4                           0.0             1               1  \n",
       "...                         ...           ...             ...  \n",
       "25971                       0.0             0               1  \n",
       "25972                       0.0             1               1  \n",
       "25973                       0.0             0               0  \n",
       "25974                       0.0             1               1  \n",
       "25975                       0.0             0               0  \n",
       "\n",
       "[129880 rows x 25 columns]"
      ]
     },
     "execution_count": 156,
     "metadata": {},
     "output_type": "execute_result"
    }
   ],
   "source": [
    "dic = {'satisfied' : 1, 'neutral or dissatisfied': 0}\n",
    "df['satisfaction'] = df['satisfaction'].map(dic)\n",
    "df"
   ]
  },
  {
   "cell_type": "markdown",
   "metadata": {},
   "source": [
    "Trata los NAN"
   ]
  },
  {
   "cell_type": "code",
   "execution_count": 157,
   "metadata": {},
   "outputs": [],
   "source": [
    "df.fillna(value={\"Arrival Delay in Minutes\":df[\"Arrival Delay in Minutes\"].mean()}, inplace = True )"
   ]
  },
  {
   "cell_type": "markdown",
   "metadata": {},
   "source": [
    "### correlacion"
   ]
  },
  {
   "cell_type": "code",
   "execution_count": 158,
   "metadata": {},
   "outputs": [
    {
     "data": {
      "text/html": [
       "<div>\n",
       "<style scoped>\n",
       "    .dataframe tbody tr th:only-of-type {\n",
       "        vertical-align: middle;\n",
       "    }\n",
       "\n",
       "    .dataframe tbody tr th {\n",
       "        vertical-align: top;\n",
       "    }\n",
       "\n",
       "    .dataframe thead th {\n",
       "        text-align: right;\n",
       "    }\n",
       "</style>\n",
       "<table border=\"1\" class=\"dataframe\">\n",
       "  <thead>\n",
       "    <tr style=\"text-align: right;\">\n",
       "      <th></th>\n",
       "      <th>id</th>\n",
       "      <th>Customer Type</th>\n",
       "      <th>Age</th>\n",
       "      <th>Type of Travel</th>\n",
       "      <th>Class</th>\n",
       "      <th>Flight Distance</th>\n",
       "      <th>Inflight wifi service</th>\n",
       "      <th>Departure/Arrival time convenient</th>\n",
       "      <th>Ease of Online booking</th>\n",
       "      <th>Gate location</th>\n",
       "      <th>...</th>\n",
       "      <th>On-board service</th>\n",
       "      <th>Leg room service</th>\n",
       "      <th>Baggage handling</th>\n",
       "      <th>Checkin service</th>\n",
       "      <th>Inflight service</th>\n",
       "      <th>Cleanliness</th>\n",
       "      <th>Departure Delay in Minutes</th>\n",
       "      <th>Arrival Delay in Minutes</th>\n",
       "      <th>satisfaction</th>\n",
       "      <th>Gender_encoded</th>\n",
       "    </tr>\n",
       "  </thead>\n",
       "  <tbody>\n",
       "    <tr>\n",
       "      <th>id</th>\n",
       "      <td>1.000000</td>\n",
       "      <td>-0.001467</td>\n",
       "      <td>0.020322</td>\n",
       "      <td>0.000935</td>\n",
       "      <td>0.097509</td>\n",
       "      <td>0.095504</td>\n",
       "      <td>-0.023096</td>\n",
       "      <td>-0.002192</td>\n",
       "      <td>0.013400</td>\n",
       "      <td>-0.000113</td>\n",
       "      <td>...</td>\n",
       "      <td>0.055502</td>\n",
       "      <td>0.044088</td>\n",
       "      <td>0.074569</td>\n",
       "      <td>0.079325</td>\n",
       "      <td>0.078793</td>\n",
       "      <td>0.024048</td>\n",
       "      <td>-0.015932</td>\n",
       "      <td>-0.037693</td>\n",
       "      <td>0.013182</td>\n",
       "      <td>-0.001361</td>\n",
       "    </tr>\n",
       "    <tr>\n",
       "      <th>Customer Type</th>\n",
       "      <td>-0.001467</td>\n",
       "      <td>1.000000</td>\n",
       "      <td>0.284172</td>\n",
       "      <td>-0.308236</td>\n",
       "      <td>0.105641</td>\n",
       "      <td>0.226021</td>\n",
       "      <td>0.005757</td>\n",
       "      <td>0.206873</td>\n",
       "      <td>0.018059</td>\n",
       "      <td>-0.004465</td>\n",
       "      <td>...</td>\n",
       "      <td>0.054172</td>\n",
       "      <td>0.046841</td>\n",
       "      <td>-0.024874</td>\n",
       "      <td>0.031243</td>\n",
       "      <td>-0.023292</td>\n",
       "      <td>0.081302</td>\n",
       "      <td>-0.005448</td>\n",
       "      <td>-0.006056</td>\n",
       "      <td>0.186017</td>\n",
       "      <td>0.030958</td>\n",
       "    </tr>\n",
       "    <tr>\n",
       "      <th>Age</th>\n",
       "      <td>0.020322</td>\n",
       "      <td>0.284172</td>\n",
       "      <td>1.000000</td>\n",
       "      <td>0.044808</td>\n",
       "      <td>0.140504</td>\n",
       "      <td>0.099459</td>\n",
       "      <td>0.016116</td>\n",
       "      <td>0.036960</td>\n",
       "      <td>0.022565</td>\n",
       "      <td>-0.000398</td>\n",
       "      <td>...</td>\n",
       "      <td>0.057078</td>\n",
       "      <td>0.039119</td>\n",
       "      <td>-0.047991</td>\n",
       "      <td>0.033475</td>\n",
       "      <td>-0.051347</td>\n",
       "      <td>0.052565</td>\n",
       "      <td>-0.007739</td>\n",
       "      <td>-0.009986</td>\n",
       "      <td>0.134091</td>\n",
       "      <td>0.008996</td>\n",
       "    </tr>\n",
       "    <tr>\n",
       "      <th>Type of Travel</th>\n",
       "      <td>0.000935</td>\n",
       "      <td>-0.308236</td>\n",
       "      <td>0.044808</td>\n",
       "      <td>1.000000</td>\n",
       "      <td>0.545447</td>\n",
       "      <td>0.266792</td>\n",
       "      <td>0.105865</td>\n",
       "      <td>-0.257102</td>\n",
       "      <td>0.134078</td>\n",
       "      <td>0.029869</td>\n",
       "      <td>...</td>\n",
       "      <td>0.059794</td>\n",
       "      <td>0.139612</td>\n",
       "      <td>0.033012</td>\n",
       "      <td>-0.016247</td>\n",
       "      <td>0.023538</td>\n",
       "      <td>0.084615</td>\n",
       "      <td>0.006173</td>\n",
       "      <td>0.005831</td>\n",
       "      <td>0.449861</td>\n",
       "      <td>-0.009503</td>\n",
       "    </tr>\n",
       "    <tr>\n",
       "      <th>Class</th>\n",
       "      <td>0.097509</td>\n",
       "      <td>0.105641</td>\n",
       "      <td>0.140504</td>\n",
       "      <td>0.545447</td>\n",
       "      <td>1.000000</td>\n",
       "      <td>0.450814</td>\n",
       "      <td>0.036869</td>\n",
       "      <td>-0.089976</td>\n",
       "      <td>0.107537</td>\n",
       "      <td>0.005861</td>\n",
       "      <td>...</td>\n",
       "      <td>0.211103</td>\n",
       "      <td>0.206129</td>\n",
       "      <td>0.161364</td>\n",
       "      <td>0.151299</td>\n",
       "      <td>0.155864</td>\n",
       "      <td>0.138491</td>\n",
       "      <td>-0.011671</td>\n",
       "      <td>-0.016537</td>\n",
       "      <td>0.492947</td>\n",
       "      <td>0.005774</td>\n",
       "    </tr>\n",
       "    <tr>\n",
       "      <th>Flight Distance</th>\n",
       "      <td>0.095504</td>\n",
       "      <td>0.226021</td>\n",
       "      <td>0.099459</td>\n",
       "      <td>0.266792</td>\n",
       "      <td>0.450814</td>\n",
       "      <td>1.000000</td>\n",
       "      <td>0.006701</td>\n",
       "      <td>-0.018914</td>\n",
       "      <td>0.065165</td>\n",
       "      <td>0.005520</td>\n",
       "      <td>...</td>\n",
       "      <td>0.111194</td>\n",
       "      <td>0.134533</td>\n",
       "      <td>0.064855</td>\n",
       "      <td>0.073608</td>\n",
       "      <td>0.059316</td>\n",
       "      <td>0.095648</td>\n",
       "      <td>-0.000980</td>\n",
       "      <td>-0.005490</td>\n",
       "      <td>0.298085</td>\n",
       "      <td>0.003616</td>\n",
       "    </tr>\n",
       "    <tr>\n",
       "      <th>Inflight wifi service</th>\n",
       "      <td>-0.023096</td>\n",
       "      <td>0.005757</td>\n",
       "      <td>0.016116</td>\n",
       "      <td>0.105865</td>\n",
       "      <td>0.036869</td>\n",
       "      <td>0.006701</td>\n",
       "      <td>1.000000</td>\n",
       "      <td>0.344915</td>\n",
       "      <td>0.714807</td>\n",
       "      <td>0.338573</td>\n",
       "      <td>...</td>\n",
       "      <td>0.119928</td>\n",
       "      <td>0.160317</td>\n",
       "      <td>0.120376</td>\n",
       "      <td>0.043762</td>\n",
       "      <td>0.110029</td>\n",
       "      <td>0.131300</td>\n",
       "      <td>-0.018300</td>\n",
       "      <td>-0.020604</td>\n",
       "      <td>0.283460</td>\n",
       "      <td>0.005901</td>\n",
       "    </tr>\n",
       "    <tr>\n",
       "      <th>Departure/Arrival time convenient</th>\n",
       "      <td>-0.002192</td>\n",
       "      <td>0.206873</td>\n",
       "      <td>0.036960</td>\n",
       "      <td>-0.257102</td>\n",
       "      <td>-0.089976</td>\n",
       "      <td>-0.018914</td>\n",
       "      <td>0.344915</td>\n",
       "      <td>1.000000</td>\n",
       "      <td>0.437620</td>\n",
       "      <td>0.447510</td>\n",
       "      <td>...</td>\n",
       "      <td>0.067297</td>\n",
       "      <td>0.010617</td>\n",
       "      <td>0.070833</td>\n",
       "      <td>0.091132</td>\n",
       "      <td>0.072195</td>\n",
       "      <td>0.009862</td>\n",
       "      <td>0.000036</td>\n",
       "      <td>-0.002020</td>\n",
       "      <td>-0.054270</td>\n",
       "      <td>0.008995</td>\n",
       "    </tr>\n",
       "    <tr>\n",
       "      <th>Ease of Online booking</th>\n",
       "      <td>0.013400</td>\n",
       "      <td>0.018059</td>\n",
       "      <td>0.022565</td>\n",
       "      <td>0.134078</td>\n",
       "      <td>0.107537</td>\n",
       "      <td>0.065165</td>\n",
       "      <td>0.714807</td>\n",
       "      <td>0.437620</td>\n",
       "      <td>1.000000</td>\n",
       "      <td>0.460041</td>\n",
       "      <td>...</td>\n",
       "      <td>0.039064</td>\n",
       "      <td>0.109450</td>\n",
       "      <td>0.039148</td>\n",
       "      <td>0.008819</td>\n",
       "      <td>0.035373</td>\n",
       "      <td>0.015125</td>\n",
       "      <td>-0.005965</td>\n",
       "      <td>-0.007927</td>\n",
       "      <td>0.168877</td>\n",
       "      <td>0.005893</td>\n",
       "    </tr>\n",
       "    <tr>\n",
       "      <th>Gate location</th>\n",
       "      <td>-0.000113</td>\n",
       "      <td>-0.004465</td>\n",
       "      <td>-0.000398</td>\n",
       "      <td>0.029869</td>\n",
       "      <td>0.005861</td>\n",
       "      <td>0.005520</td>\n",
       "      <td>0.338573</td>\n",
       "      <td>0.447510</td>\n",
       "      <td>0.460041</td>\n",
       "      <td>1.000000</td>\n",
       "      <td>...</td>\n",
       "      <td>-0.029019</td>\n",
       "      <td>-0.005181</td>\n",
       "      <td>0.000972</td>\n",
       "      <td>-0.039353</td>\n",
       "      <td>0.000310</td>\n",
       "      <td>-0.005918</td>\n",
       "      <td>0.007332</td>\n",
       "      <td>0.006721</td>\n",
       "      <td>-0.002793</td>\n",
       "      <td>-0.000863</td>\n",
       "    </tr>\n",
       "    <tr>\n",
       "      <th>Food and drink</th>\n",
       "      <td>-0.000510</td>\n",
       "      <td>0.056997</td>\n",
       "      <td>0.023194</td>\n",
       "      <td>0.068986</td>\n",
       "      <td>0.088253</td>\n",
       "      <td>0.057066</td>\n",
       "      <td>0.132214</td>\n",
       "      <td>0.000687</td>\n",
       "      <td>0.030514</td>\n",
       "      <td>-0.002872</td>\n",
       "      <td>...</td>\n",
       "      <td>0.057404</td>\n",
       "      <td>0.033173</td>\n",
       "      <td>0.035321</td>\n",
       "      <td>0.085198</td>\n",
       "      <td>0.035210</td>\n",
       "      <td>0.658054</td>\n",
       "      <td>-0.030733</td>\n",
       "      <td>-0.033964</td>\n",
       "      <td>0.211340</td>\n",
       "      <td>0.001730</td>\n",
       "    </tr>\n",
       "    <tr>\n",
       "      <th>Online boarding</th>\n",
       "      <td>0.055538</td>\n",
       "      <td>0.189083</td>\n",
       "      <td>0.207572</td>\n",
       "      <td>0.224020</td>\n",
       "      <td>0.322890</td>\n",
       "      <td>0.214825</td>\n",
       "      <td>0.457445</td>\n",
       "      <td>0.072287</td>\n",
       "      <td>0.404866</td>\n",
       "      <td>0.002756</td>\n",
       "      <td>...</td>\n",
       "      <td>0.154242</td>\n",
       "      <td>0.123225</td>\n",
       "      <td>0.083541</td>\n",
       "      <td>0.204238</td>\n",
       "      <td>0.074058</td>\n",
       "      <td>0.329377</td>\n",
       "      <td>-0.023129</td>\n",
       "      <td>-0.027712</td>\n",
       "      <td>0.501749</td>\n",
       "      <td>-0.045022</td>\n",
       "    </tr>\n",
       "    <tr>\n",
       "      <th>Seat comfort</th>\n",
       "      <td>0.052164</td>\n",
       "      <td>0.156239</td>\n",
       "      <td>0.159136</td>\n",
       "      <td>0.127717</td>\n",
       "      <td>0.227368</td>\n",
       "      <td>0.157662</td>\n",
       "      <td>0.121513</td>\n",
       "      <td>0.008666</td>\n",
       "      <td>0.028561</td>\n",
       "      <td>0.002788</td>\n",
       "      <td>...</td>\n",
       "      <td>0.130545</td>\n",
       "      <td>0.104272</td>\n",
       "      <td>0.074620</td>\n",
       "      <td>0.189979</td>\n",
       "      <td>0.068842</td>\n",
       "      <td>0.679613</td>\n",
       "      <td>-0.030268</td>\n",
       "      <td>-0.033867</td>\n",
       "      <td>0.348829</td>\n",
       "      <td>-0.030756</td>\n",
       "    </tr>\n",
       "    <tr>\n",
       "      <th>Inflight entertainment</th>\n",
       "      <td>0.001620</td>\n",
       "      <td>0.106001</td>\n",
       "      <td>0.074947</td>\n",
       "      <td>0.152936</td>\n",
       "      <td>0.196246</td>\n",
       "      <td>0.130507</td>\n",
       "      <td>0.207802</td>\n",
       "      <td>-0.008380</td>\n",
       "      <td>0.046564</td>\n",
       "      <td>0.002741</td>\n",
       "      <td>...</td>\n",
       "      <td>0.418574</td>\n",
       "      <td>0.300397</td>\n",
       "      <td>0.379123</td>\n",
       "      <td>0.119554</td>\n",
       "      <td>0.406094</td>\n",
       "      <td>0.692511</td>\n",
       "      <td>-0.029882</td>\n",
       "      <td>-0.033539</td>\n",
       "      <td>0.398234</td>\n",
       "      <td>0.003843</td>\n",
       "    </tr>\n",
       "    <tr>\n",
       "      <th>On-board service</th>\n",
       "      <td>0.055502</td>\n",
       "      <td>0.054172</td>\n",
       "      <td>0.057078</td>\n",
       "      <td>0.059794</td>\n",
       "      <td>0.211103</td>\n",
       "      <td>0.111194</td>\n",
       "      <td>0.119928</td>\n",
       "      <td>0.067297</td>\n",
       "      <td>0.039064</td>\n",
       "      <td>-0.029019</td>\n",
       "      <td>...</td>\n",
       "      <td>1.000000</td>\n",
       "      <td>0.357721</td>\n",
       "      <td>0.520296</td>\n",
       "      <td>0.244619</td>\n",
       "      <td>0.551569</td>\n",
       "      <td>0.122084</td>\n",
       "      <td>-0.034305</td>\n",
       "      <td>-0.039326</td>\n",
       "      <td>0.322205</td>\n",
       "      <td>0.006447</td>\n",
       "    </tr>\n",
       "    <tr>\n",
       "      <th>Leg room service</th>\n",
       "      <td>0.044088</td>\n",
       "      <td>0.046841</td>\n",
       "      <td>0.039119</td>\n",
       "      <td>0.139612</td>\n",
       "      <td>0.206129</td>\n",
       "      <td>0.134533</td>\n",
       "      <td>0.160317</td>\n",
       "      <td>0.010617</td>\n",
       "      <td>0.109450</td>\n",
       "      <td>-0.005181</td>\n",
       "      <td>...</td>\n",
       "      <td>0.357721</td>\n",
       "      <td>1.000000</td>\n",
       "      <td>0.371455</td>\n",
       "      <td>0.152693</td>\n",
       "      <td>0.369569</td>\n",
       "      <td>0.096695</td>\n",
       "      <td>0.011443</td>\n",
       "      <td>0.007831</td>\n",
       "      <td>0.312424</td>\n",
       "      <td>0.031047</td>\n",
       "    </tr>\n",
       "    <tr>\n",
       "      <th>Baggage handling</th>\n",
       "      <td>0.074569</td>\n",
       "      <td>-0.024874</td>\n",
       "      <td>-0.047991</td>\n",
       "      <td>0.033012</td>\n",
       "      <td>0.161364</td>\n",
       "      <td>0.064855</td>\n",
       "      <td>0.120376</td>\n",
       "      <td>0.070833</td>\n",
       "      <td>0.039148</td>\n",
       "      <td>0.000972</td>\n",
       "      <td>...</td>\n",
       "      <td>0.520296</td>\n",
       "      <td>0.371455</td>\n",
       "      <td>1.000000</td>\n",
       "      <td>0.234503</td>\n",
       "      <td>0.629237</td>\n",
       "      <td>0.097071</td>\n",
       "      <td>-0.007512</td>\n",
       "      <td>-0.011835</td>\n",
       "      <td>0.248680</td>\n",
       "      <td>0.036356</td>\n",
       "    </tr>\n",
       "    <tr>\n",
       "      <th>Checkin service</th>\n",
       "      <td>0.079325</td>\n",
       "      <td>0.031243</td>\n",
       "      <td>0.033475</td>\n",
       "      <td>-0.016247</td>\n",
       "      <td>0.151299</td>\n",
       "      <td>0.073608</td>\n",
       "      <td>0.043762</td>\n",
       "      <td>0.091132</td>\n",
       "      <td>0.008819</td>\n",
       "      <td>-0.039353</td>\n",
       "      <td>...</td>\n",
       "      <td>0.244619</td>\n",
       "      <td>0.152693</td>\n",
       "      <td>0.234503</td>\n",
       "      <td>1.000000</td>\n",
       "      <td>0.237601</td>\n",
       "      <td>0.176658</td>\n",
       "      <td>-0.021678</td>\n",
       "      <td>-0.025880</td>\n",
       "      <td>0.237252</td>\n",
       "      <td>0.008462</td>\n",
       "    </tr>\n",
       "    <tr>\n",
       "      <th>Inflight service</th>\n",
       "      <td>0.078793</td>\n",
       "      <td>-0.023292</td>\n",
       "      <td>-0.051347</td>\n",
       "      <td>0.023538</td>\n",
       "      <td>0.155864</td>\n",
       "      <td>0.059316</td>\n",
       "      <td>0.110029</td>\n",
       "      <td>0.072195</td>\n",
       "      <td>0.035373</td>\n",
       "      <td>0.000310</td>\n",
       "      <td>...</td>\n",
       "      <td>0.551569</td>\n",
       "      <td>0.369569</td>\n",
       "      <td>0.629237</td>\n",
       "      <td>0.237601</td>\n",
       "      <td>1.000000</td>\n",
       "      <td>0.090356</td>\n",
       "      <td>-0.056711</td>\n",
       "      <td>-0.063280</td>\n",
       "      <td>0.244918</td>\n",
       "      <td>0.038504</td>\n",
       "    </tr>\n",
       "    <tr>\n",
       "      <th>Cleanliness</th>\n",
       "      <td>0.024048</td>\n",
       "      <td>0.081302</td>\n",
       "      <td>0.052565</td>\n",
       "      <td>0.084615</td>\n",
       "      <td>0.138491</td>\n",
       "      <td>0.095648</td>\n",
       "      <td>0.131300</td>\n",
       "      <td>0.009862</td>\n",
       "      <td>0.015125</td>\n",
       "      <td>-0.005918</td>\n",
       "      <td>...</td>\n",
       "      <td>0.122084</td>\n",
       "      <td>0.096695</td>\n",
       "      <td>0.097071</td>\n",
       "      <td>0.176658</td>\n",
       "      <td>0.090356</td>\n",
       "      <td>1.000000</td>\n",
       "      <td>-0.016965</td>\n",
       "      <td>-0.019999</td>\n",
       "      <td>0.307035</td>\n",
       "      <td>0.002867</td>\n",
       "    </tr>\n",
       "    <tr>\n",
       "      <th>Departure Delay in Minutes</th>\n",
       "      <td>-0.015932</td>\n",
       "      <td>-0.005448</td>\n",
       "      <td>-0.007739</td>\n",
       "      <td>0.006173</td>\n",
       "      <td>-0.011671</td>\n",
       "      <td>-0.000980</td>\n",
       "      <td>-0.018300</td>\n",
       "      <td>0.000036</td>\n",
       "      <td>-0.005965</td>\n",
       "      <td>0.007332</td>\n",
       "      <td>...</td>\n",
       "      <td>-0.034305</td>\n",
       "      <td>0.011443</td>\n",
       "      <td>-0.007512</td>\n",
       "      <td>-0.021678</td>\n",
       "      <td>-0.056711</td>\n",
       "      <td>-0.016965</td>\n",
       "      <td>1.000000</td>\n",
       "      <td>0.946850</td>\n",
       "      <td>-0.058730</td>\n",
       "      <td>0.002791</td>\n",
       "    </tr>\n",
       "    <tr>\n",
       "      <th>Arrival Delay in Minutes</th>\n",
       "      <td>-0.037693</td>\n",
       "      <td>-0.006056</td>\n",
       "      <td>-0.009986</td>\n",
       "      <td>0.005831</td>\n",
       "      <td>-0.016537</td>\n",
       "      <td>-0.005490</td>\n",
       "      <td>-0.020604</td>\n",
       "      <td>-0.002020</td>\n",
       "      <td>-0.007927</td>\n",
       "      <td>0.006721</td>\n",
       "      <td>...</td>\n",
       "      <td>-0.039326</td>\n",
       "      <td>0.007831</td>\n",
       "      <td>-0.011835</td>\n",
       "      <td>-0.025880</td>\n",
       "      <td>-0.063280</td>\n",
       "      <td>-0.019999</td>\n",
       "      <td>0.946850</td>\n",
       "      <td>1.000000</td>\n",
       "      <td>-0.068069</td>\n",
       "      <td>0.000622</td>\n",
       "    </tr>\n",
       "    <tr>\n",
       "      <th>satisfaction</th>\n",
       "      <td>0.013182</td>\n",
       "      <td>0.186017</td>\n",
       "      <td>0.134091</td>\n",
       "      <td>0.449861</td>\n",
       "      <td>0.492947</td>\n",
       "      <td>0.298085</td>\n",
       "      <td>0.283460</td>\n",
       "      <td>-0.054270</td>\n",
       "      <td>0.168877</td>\n",
       "      <td>-0.002793</td>\n",
       "      <td>...</td>\n",
       "      <td>0.322205</td>\n",
       "      <td>0.312424</td>\n",
       "      <td>0.248680</td>\n",
       "      <td>0.237252</td>\n",
       "      <td>0.244918</td>\n",
       "      <td>0.307035</td>\n",
       "      <td>-0.058730</td>\n",
       "      <td>-0.068069</td>\n",
       "      <td>1.000000</td>\n",
       "      <td>0.011236</td>\n",
       "    </tr>\n",
       "    <tr>\n",
       "      <th>Gender_encoded</th>\n",
       "      <td>-0.001361</td>\n",
       "      <td>0.030958</td>\n",
       "      <td>0.008996</td>\n",
       "      <td>-0.009503</td>\n",
       "      <td>0.005774</td>\n",
       "      <td>0.003616</td>\n",
       "      <td>0.005901</td>\n",
       "      <td>0.008995</td>\n",
       "      <td>0.005893</td>\n",
       "      <td>-0.000863</td>\n",
       "      <td>...</td>\n",
       "      <td>0.006447</td>\n",
       "      <td>0.031047</td>\n",
       "      <td>0.036356</td>\n",
       "      <td>0.008462</td>\n",
       "      <td>0.038504</td>\n",
       "      <td>0.002867</td>\n",
       "      <td>0.002791</td>\n",
       "      <td>0.000622</td>\n",
       "      <td>0.011236</td>\n",
       "      <td>1.000000</td>\n",
       "    </tr>\n",
       "  </tbody>\n",
       "</table>\n",
       "<p>24 rows × 24 columns</p>\n",
       "</div>"
      ],
      "text/plain": [
       "                                         id  Customer Type       Age  \\\n",
       "id                                 1.000000      -0.001467  0.020322   \n",
       "Customer Type                     -0.001467       1.000000  0.284172   \n",
       "Age                                0.020322       0.284172  1.000000   \n",
       "Type of Travel                     0.000935      -0.308236  0.044808   \n",
       "Class                              0.097509       0.105641  0.140504   \n",
       "Flight Distance                    0.095504       0.226021  0.099459   \n",
       "Inflight wifi service             -0.023096       0.005757  0.016116   \n",
       "Departure/Arrival time convenient -0.002192       0.206873  0.036960   \n",
       "Ease of Online booking             0.013400       0.018059  0.022565   \n",
       "Gate location                     -0.000113      -0.004465 -0.000398   \n",
       "Food and drink                    -0.000510       0.056997  0.023194   \n",
       "Online boarding                    0.055538       0.189083  0.207572   \n",
       "Seat comfort                       0.052164       0.156239  0.159136   \n",
       "Inflight entertainment             0.001620       0.106001  0.074947   \n",
       "On-board service                   0.055502       0.054172  0.057078   \n",
       "Leg room service                   0.044088       0.046841  0.039119   \n",
       "Baggage handling                   0.074569      -0.024874 -0.047991   \n",
       "Checkin service                    0.079325       0.031243  0.033475   \n",
       "Inflight service                   0.078793      -0.023292 -0.051347   \n",
       "Cleanliness                        0.024048       0.081302  0.052565   \n",
       "Departure Delay in Minutes        -0.015932      -0.005448 -0.007739   \n",
       "Arrival Delay in Minutes          -0.037693      -0.006056 -0.009986   \n",
       "satisfaction                       0.013182       0.186017  0.134091   \n",
       "Gender_encoded                    -0.001361       0.030958  0.008996   \n",
       "\n",
       "                                   Type of Travel     Class  Flight Distance  \\\n",
       "id                                       0.000935  0.097509         0.095504   \n",
       "Customer Type                           -0.308236  0.105641         0.226021   \n",
       "Age                                      0.044808  0.140504         0.099459   \n",
       "Type of Travel                           1.000000  0.545447         0.266792   \n",
       "Class                                    0.545447  1.000000         0.450814   \n",
       "Flight Distance                          0.266792  0.450814         1.000000   \n",
       "Inflight wifi service                    0.105865  0.036869         0.006701   \n",
       "Departure/Arrival time convenient       -0.257102 -0.089976        -0.018914   \n",
       "Ease of Online booking                   0.134078  0.107537         0.065165   \n",
       "Gate location                            0.029869  0.005861         0.005520   \n",
       "Food and drink                           0.068986  0.088253         0.057066   \n",
       "Online boarding                          0.224020  0.322890         0.214825   \n",
       "Seat comfort                             0.127717  0.227368         0.157662   \n",
       "Inflight entertainment                   0.152936  0.196246         0.130507   \n",
       "On-board service                         0.059794  0.211103         0.111194   \n",
       "Leg room service                         0.139612  0.206129         0.134533   \n",
       "Baggage handling                         0.033012  0.161364         0.064855   \n",
       "Checkin service                         -0.016247  0.151299         0.073608   \n",
       "Inflight service                         0.023538  0.155864         0.059316   \n",
       "Cleanliness                              0.084615  0.138491         0.095648   \n",
       "Departure Delay in Minutes               0.006173 -0.011671        -0.000980   \n",
       "Arrival Delay in Minutes                 0.005831 -0.016537        -0.005490   \n",
       "satisfaction                             0.449861  0.492947         0.298085   \n",
       "Gender_encoded                          -0.009503  0.005774         0.003616   \n",
       "\n",
       "                                   Inflight wifi service  \\\n",
       "id                                             -0.023096   \n",
       "Customer Type                                   0.005757   \n",
       "Age                                             0.016116   \n",
       "Type of Travel                                  0.105865   \n",
       "Class                                           0.036869   \n",
       "Flight Distance                                 0.006701   \n",
       "Inflight wifi service                           1.000000   \n",
       "Departure/Arrival time convenient               0.344915   \n",
       "Ease of Online booking                          0.714807   \n",
       "Gate location                                   0.338573   \n",
       "Food and drink                                  0.132214   \n",
       "Online boarding                                 0.457445   \n",
       "Seat comfort                                    0.121513   \n",
       "Inflight entertainment                          0.207802   \n",
       "On-board service                                0.119928   \n",
       "Leg room service                                0.160317   \n",
       "Baggage handling                                0.120376   \n",
       "Checkin service                                 0.043762   \n",
       "Inflight service                                0.110029   \n",
       "Cleanliness                                     0.131300   \n",
       "Departure Delay in Minutes                     -0.018300   \n",
       "Arrival Delay in Minutes                       -0.020604   \n",
       "satisfaction                                    0.283460   \n",
       "Gender_encoded                                  0.005901   \n",
       "\n",
       "                                   Departure/Arrival time convenient  \\\n",
       "id                                                         -0.002192   \n",
       "Customer Type                                               0.206873   \n",
       "Age                                                         0.036960   \n",
       "Type of Travel                                             -0.257102   \n",
       "Class                                                      -0.089976   \n",
       "Flight Distance                                            -0.018914   \n",
       "Inflight wifi service                                       0.344915   \n",
       "Departure/Arrival time convenient                           1.000000   \n",
       "Ease of Online booking                                      0.437620   \n",
       "Gate location                                               0.447510   \n",
       "Food and drink                                              0.000687   \n",
       "Online boarding                                             0.072287   \n",
       "Seat comfort                                                0.008666   \n",
       "Inflight entertainment                                     -0.008380   \n",
       "On-board service                                            0.067297   \n",
       "Leg room service                                            0.010617   \n",
       "Baggage handling                                            0.070833   \n",
       "Checkin service                                             0.091132   \n",
       "Inflight service                                            0.072195   \n",
       "Cleanliness                                                 0.009862   \n",
       "Departure Delay in Minutes                                  0.000036   \n",
       "Arrival Delay in Minutes                                   -0.002020   \n",
       "satisfaction                                               -0.054270   \n",
       "Gender_encoded                                              0.008995   \n",
       "\n",
       "                                   Ease of Online booking  Gate location  ...  \\\n",
       "id                                               0.013400      -0.000113  ...   \n",
       "Customer Type                                    0.018059      -0.004465  ...   \n",
       "Age                                              0.022565      -0.000398  ...   \n",
       "Type of Travel                                   0.134078       0.029869  ...   \n",
       "Class                                            0.107537       0.005861  ...   \n",
       "Flight Distance                                  0.065165       0.005520  ...   \n",
       "Inflight wifi service                            0.714807       0.338573  ...   \n",
       "Departure/Arrival time convenient                0.437620       0.447510  ...   \n",
       "Ease of Online booking                           1.000000       0.460041  ...   \n",
       "Gate location                                    0.460041       1.000000  ...   \n",
       "Food and drink                                   0.030514      -0.002872  ...   \n",
       "Online boarding                                  0.404866       0.002756  ...   \n",
       "Seat comfort                                     0.028561       0.002788  ...   \n",
       "Inflight entertainment                           0.046564       0.002741  ...   \n",
       "On-board service                                 0.039064      -0.029019  ...   \n",
       "Leg room service                                 0.109450      -0.005181  ...   \n",
       "Baggage handling                                 0.039148       0.000972  ...   \n",
       "Checkin service                                  0.008819      -0.039353  ...   \n",
       "Inflight service                                 0.035373       0.000310  ...   \n",
       "Cleanliness                                      0.015125      -0.005918  ...   \n",
       "Departure Delay in Minutes                      -0.005965       0.007332  ...   \n",
       "Arrival Delay in Minutes                        -0.007927       0.006721  ...   \n",
       "satisfaction                                     0.168877      -0.002793  ...   \n",
       "Gender_encoded                                   0.005893      -0.000863  ...   \n",
       "\n",
       "                                   On-board service  Leg room service  \\\n",
       "id                                         0.055502          0.044088   \n",
       "Customer Type                              0.054172          0.046841   \n",
       "Age                                        0.057078          0.039119   \n",
       "Type of Travel                             0.059794          0.139612   \n",
       "Class                                      0.211103          0.206129   \n",
       "Flight Distance                            0.111194          0.134533   \n",
       "Inflight wifi service                      0.119928          0.160317   \n",
       "Departure/Arrival time convenient          0.067297          0.010617   \n",
       "Ease of Online booking                     0.039064          0.109450   \n",
       "Gate location                             -0.029019         -0.005181   \n",
       "Food and drink                             0.057404          0.033173   \n",
       "Online boarding                            0.154242          0.123225   \n",
       "Seat comfort                               0.130545          0.104272   \n",
       "Inflight entertainment                     0.418574          0.300397   \n",
       "On-board service                           1.000000          0.357721   \n",
       "Leg room service                           0.357721          1.000000   \n",
       "Baggage handling                           0.520296          0.371455   \n",
       "Checkin service                            0.244619          0.152693   \n",
       "Inflight service                           0.551569          0.369569   \n",
       "Cleanliness                                0.122084          0.096695   \n",
       "Departure Delay in Minutes                -0.034305          0.011443   \n",
       "Arrival Delay in Minutes                  -0.039326          0.007831   \n",
       "satisfaction                               0.322205          0.312424   \n",
       "Gender_encoded                             0.006447          0.031047   \n",
       "\n",
       "                                   Baggage handling  Checkin service  \\\n",
       "id                                         0.074569         0.079325   \n",
       "Customer Type                             -0.024874         0.031243   \n",
       "Age                                       -0.047991         0.033475   \n",
       "Type of Travel                             0.033012        -0.016247   \n",
       "Class                                      0.161364         0.151299   \n",
       "Flight Distance                            0.064855         0.073608   \n",
       "Inflight wifi service                      0.120376         0.043762   \n",
       "Departure/Arrival time convenient          0.070833         0.091132   \n",
       "Ease of Online booking                     0.039148         0.008819   \n",
       "Gate location                              0.000972        -0.039353   \n",
       "Food and drink                             0.035321         0.085198   \n",
       "Online boarding                            0.083541         0.204238   \n",
       "Seat comfort                               0.074620         0.189979   \n",
       "Inflight entertainment                     0.379123         0.119554   \n",
       "On-board service                           0.520296         0.244619   \n",
       "Leg room service                           0.371455         0.152693   \n",
       "Baggage handling                           1.000000         0.234503   \n",
       "Checkin service                            0.234503         1.000000   \n",
       "Inflight service                           0.629237         0.237601   \n",
       "Cleanliness                                0.097071         0.176658   \n",
       "Departure Delay in Minutes                -0.007512        -0.021678   \n",
       "Arrival Delay in Minutes                  -0.011835        -0.025880   \n",
       "satisfaction                               0.248680         0.237252   \n",
       "Gender_encoded                             0.036356         0.008462   \n",
       "\n",
       "                                   Inflight service  Cleanliness  \\\n",
       "id                                         0.078793     0.024048   \n",
       "Customer Type                             -0.023292     0.081302   \n",
       "Age                                       -0.051347     0.052565   \n",
       "Type of Travel                             0.023538     0.084615   \n",
       "Class                                      0.155864     0.138491   \n",
       "Flight Distance                            0.059316     0.095648   \n",
       "Inflight wifi service                      0.110029     0.131300   \n",
       "Departure/Arrival time convenient          0.072195     0.009862   \n",
       "Ease of Online booking                     0.035373     0.015125   \n",
       "Gate location                              0.000310    -0.005918   \n",
       "Food and drink                             0.035210     0.658054   \n",
       "Online boarding                            0.074058     0.329377   \n",
       "Seat comfort                               0.068842     0.679613   \n",
       "Inflight entertainment                     0.406094     0.692511   \n",
       "On-board service                           0.551569     0.122084   \n",
       "Leg room service                           0.369569     0.096695   \n",
       "Baggage handling                           0.629237     0.097071   \n",
       "Checkin service                            0.237601     0.176658   \n",
       "Inflight service                           1.000000     0.090356   \n",
       "Cleanliness                                0.090356     1.000000   \n",
       "Departure Delay in Minutes                -0.056711    -0.016965   \n",
       "Arrival Delay in Minutes                  -0.063280    -0.019999   \n",
       "satisfaction                               0.244918     0.307035   \n",
       "Gender_encoded                             0.038504     0.002867   \n",
       "\n",
       "                                   Departure Delay in Minutes  \\\n",
       "id                                                  -0.015932   \n",
       "Customer Type                                       -0.005448   \n",
       "Age                                                 -0.007739   \n",
       "Type of Travel                                       0.006173   \n",
       "Class                                               -0.011671   \n",
       "Flight Distance                                     -0.000980   \n",
       "Inflight wifi service                               -0.018300   \n",
       "Departure/Arrival time convenient                    0.000036   \n",
       "Ease of Online booking                              -0.005965   \n",
       "Gate location                                        0.007332   \n",
       "Food and drink                                      -0.030733   \n",
       "Online boarding                                     -0.023129   \n",
       "Seat comfort                                        -0.030268   \n",
       "Inflight entertainment                              -0.029882   \n",
       "On-board service                                    -0.034305   \n",
       "Leg room service                                     0.011443   \n",
       "Baggage handling                                    -0.007512   \n",
       "Checkin service                                     -0.021678   \n",
       "Inflight service                                    -0.056711   \n",
       "Cleanliness                                         -0.016965   \n",
       "Departure Delay in Minutes                           1.000000   \n",
       "Arrival Delay in Minutes                             0.946850   \n",
       "satisfaction                                        -0.058730   \n",
       "Gender_encoded                                       0.002791   \n",
       "\n",
       "                                   Arrival Delay in Minutes  satisfaction  \\\n",
       "id                                                -0.037693      0.013182   \n",
       "Customer Type                                     -0.006056      0.186017   \n",
       "Age                                               -0.009986      0.134091   \n",
       "Type of Travel                                     0.005831      0.449861   \n",
       "Class                                             -0.016537      0.492947   \n",
       "Flight Distance                                   -0.005490      0.298085   \n",
       "Inflight wifi service                             -0.020604      0.283460   \n",
       "Departure/Arrival time convenient                 -0.002020     -0.054270   \n",
       "Ease of Online booking                            -0.007927      0.168877   \n",
       "Gate location                                      0.006721     -0.002793   \n",
       "Food and drink                                    -0.033964      0.211340   \n",
       "Online boarding                                   -0.027712      0.501749   \n",
       "Seat comfort                                      -0.033867      0.348829   \n",
       "Inflight entertainment                            -0.033539      0.398234   \n",
       "On-board service                                  -0.039326      0.322205   \n",
       "Leg room service                                   0.007831      0.312424   \n",
       "Baggage handling                                  -0.011835      0.248680   \n",
       "Checkin service                                   -0.025880      0.237252   \n",
       "Inflight service                                  -0.063280      0.244918   \n",
       "Cleanliness                                       -0.019999      0.307035   \n",
       "Departure Delay in Minutes                         0.946850     -0.058730   \n",
       "Arrival Delay in Minutes                           1.000000     -0.068069   \n",
       "satisfaction                                      -0.068069      1.000000   \n",
       "Gender_encoded                                     0.000622      0.011236   \n",
       "\n",
       "                                   Gender_encoded  \n",
       "id                                      -0.001361  \n",
       "Customer Type                            0.030958  \n",
       "Age                                      0.008996  \n",
       "Type of Travel                          -0.009503  \n",
       "Class                                    0.005774  \n",
       "Flight Distance                          0.003616  \n",
       "Inflight wifi service                    0.005901  \n",
       "Departure/Arrival time convenient        0.008995  \n",
       "Ease of Online booking                   0.005893  \n",
       "Gate location                           -0.000863  \n",
       "Food and drink                           0.001730  \n",
       "Online boarding                         -0.045022  \n",
       "Seat comfort                            -0.030756  \n",
       "Inflight entertainment                   0.003843  \n",
       "On-board service                         0.006447  \n",
       "Leg room service                         0.031047  \n",
       "Baggage handling                         0.036356  \n",
       "Checkin service                          0.008462  \n",
       "Inflight service                         0.038504  \n",
       "Cleanliness                              0.002867  \n",
       "Departure Delay in Minutes               0.002791  \n",
       "Arrival Delay in Minutes                 0.000622  \n",
       "satisfaction                             0.011236  \n",
       "Gender_encoded                           1.000000  \n",
       "\n",
       "[24 rows x 24 columns]"
      ]
     },
     "execution_count": 158,
     "metadata": {},
     "output_type": "execute_result"
    }
   ],
   "source": [
    "df.corr()"
   ]
  },
  {
   "cell_type": "code",
   "execution_count": 159,
   "metadata": {},
   "outputs": [
    {
     "data": {
      "text/plain": [
       "<AxesSubplot:>"
      ]
     },
     "execution_count": 159,
     "metadata": {},
     "output_type": "execute_result"
    },
    {
     "data": {
      "image/png": "[encoded data removed]",
      "text/plain": [
       "<Figure size 2160x2160 with 2 Axes>"
      ]
     },
     "metadata": {
      "needs_background": "light"
     },
     "output_type": "display_data"
    }
   ],
   "source": [
    "plt.figure(figsize=(30,30))\n",
    "sns.heatmap(df.corr(), annot=True)"
   ]
  },
  {
   "cell_type": "markdown",
   "metadata": {},
   "source": [
    "note:\n",
    "\n",
    "Existe una correlación significativa entre 'Departure Delay in Minutes' y 'Arrival Delay in Minutes', por lo que eliminaremos una de las dos features para evitar el problema de la multicolinealidad.\n",
    "\n",
    "los coeficientes entre [-0.1, +0.1] respecto a nuestro target, suelen ser variables que no tiene nada que ver con el mismo. vamos a eliminarlos."
   ]
  },
  {
   "cell_type": "markdown",
   "metadata": {},
   "source": [
    "## Machine Learning"
   ]
  },
  {
   "cell_type": "markdown",
   "metadata": {},
   "source": [
    "## Train test split"
   ]
  },
  {
   "cell_type": "code",
   "execution_count": 160,
   "metadata": {},
   "outputs": [],
   "source": [
    "X = df.drop(columns=['satisfaction','id','Gender','Gender_encoded','Departure Delay in Minutes','Arrival Delay in Minutes','Departure/Arrival time convenient','Gate location'])\n",
    "y = df['satisfaction']"
   ]
  },
  {
   "cell_type": "code",
   "execution_count": 161,
   "metadata": {},
   "outputs": [],
   "source": [
    "#y.to_csv(\"test.csv\")"
   ]
  },
  {
   "cell_type": "code",
   "execution_count": 162,
   "metadata": {},
   "outputs": [],
   "source": [
    "from sklearn.model_selection import train_test_split\n",
    "\n",
    "X_train, X_test, y_train, y_test = train_test_split(X, y, test_size = 0.2, random_state=0)"
   ]
  },
  {
   "cell_type": "code",
   "execution_count": 163,
   "metadata": {},
   "outputs": [],
   "source": [
    "#X_train[\"satisfaction\"]=y_train"
   ]
  },
  {
   "cell_type": "code",
   "execution_count": 164,
   "metadata": {},
   "outputs": [],
   "source": [
    "#X_test[\"satisfaction\"]=y_test"
   ]
  },
  {
   "cell_type": "code",
   "execution_count": 165,
   "metadata": {},
   "outputs": [],
   "source": [
    "#X_train.to_csv(\"train.csv\")"
   ]
  },
  {
   "cell_type": "code",
   "execution_count": 86,
   "metadata": {},
   "outputs": [
    {
     "name": "stdout",
     "output_type": "stream",
     "text": [
      "(103904, 17)\n",
      "(25976, 17)\n",
      "(103904,)\n",
      "(25976,)\n"
     ]
    }
   ],
   "source": [
    "print(X_train.shape)\n",
    "print(X_test.shape)\n",
    "print(y_train.shape)\n",
    "print(y_test.shape)"
   ]
  },
  {
   "cell_type": "code",
   "execution_count": 87,
   "metadata": {},
   "outputs": [],
   "source": [
    "from sklearn.preprocessing import StandardScaler\n",
    "# Almaceno en el objeto scaler todo lo necesario para estandarizar, con los datos de train\n",
    "scaler = StandardScaler()\n",
    "scaler.fit(X_train)\n",
    "\n",
    "# Utilizo los datos de train para escalar train y test.\n",
    "X_train_scale= scaler.transform(X_train)\n",
    "X_test_scale= scaler.transform(X_test)"
   ]
  },
  {
   "cell_type": "markdown",
   "metadata": {},
   "source": [
    "### Entrenar los modelos y elegir el mejor moldelo"
   ]
  },
  {
   "cell_type": "markdown",
   "metadata": {},
   "source": [
    "LogisticRegression"
   ]
  },
  {
   "cell_type": "code",
   "execution_count": 88,
   "metadata": {},
   "outputs": [],
   "source": [
    "from sklearn.model_selection import GridSearchCV\n",
    "from sklearn.metrics import accuracy_score, precision_score, recall_score, roc_auc_score\n",
    "seed=7"
   ]
  },
  {
   "cell_type": "code",
   "execution_count": 89,
   "metadata": {},
   "outputs": [
    {
     "name": "stdout",
     "output_type": "stream",
     "text": [
      "Fitting 3 folds for each of 12 candidates, totalling 36 fits\n",
      "[CV] END ................................C=0.1, max_iter=100; total time=   0.2s\n",
      "[CV] END .................................C=0.1, max_iter=50; total time=   0.2s\n",
      "[CV] END .................................C=0.1, max_iter=50; total time=   0.2s\n",
      "[CV] END .................................C=0.1, max_iter=50; total time=   0.2s\n",
      "[CV] END ................................C=0.1, max_iter=500; total time=   0.2s\n",
      "[CV] END ................................C=0.1, max_iter=100; total time=   0.2s\n",
      "[CV] END ................................C=0.1, max_iter=100; total time=   0.3s\n",
      "[CV] END ................................C=0.1, max_iter=500; total time=   0.2s\n",
      "[CV] END ................................C=0.1, max_iter=500; total time=   0.2s\n",
      "[CV] END .................................C=0.5, max_iter=50; total time=   0.2s\n",
      "[CV] END .................................C=0.5, max_iter=50; total time=   0.2s\n",
      "[CV] END .................................C=0.5, max_iter=50; total time=   0.2s\n",
      "[CV] END ................................C=0.5, max_iter=100; total time=   0.2s\n",
      "[CV] END ................................C=0.5, max_iter=100; total time=   0.2s\n",
      "[CV] END ................................C=0.5, max_iter=100; total time=   0.2s\n",
      "[CV] END ................................C=0.5, max_iter=500; total time=   0.2s\n",
      "[CV] END .................................C=1.0, max_iter=50; total time=   0.2s\n",
      "[CV] END ................................C=0.5, max_iter=500; total time=   0.2s\n",
      "[CV] END ................................C=0.5, max_iter=500; total time=   0.2s\n",
      "[CV] END .................................C=1.0, max_iter=50; total time=   0.2s\n",
      "[CV] END ................................C=1.0, max_iter=100; total time=   0.2s\n",
      "[CV] END .................................C=1.0, max_iter=50; total time=   0.3s\n",
      "[CV] END ................................C=1.0, max_iter=100; total time=   0.3s\n",
      "[CV] END ................................C=1.0, max_iter=100; total time=   0.3s\n",
      "[CV] END ................................C=1.0, max_iter=500; total time=   0.3s\n",
      "[CV] END ................................C=1.0, max_iter=500; total time=   0.3s\n",
      "[CV] END ................................C=1.0, max_iter=500; total time=   0.2s\n",
      "[CV] END .................................C=5.0, max_iter=50; total time=   0.2s\n",
      "[CV] END .................................C=5.0, max_iter=50; total time=   0.3s\n",
      "[CV] END .................................C=5.0, max_iter=50; total time=   0.3s\n",
      "[CV] END ................................C=5.0, max_iter=100; total time=   0.3s\n",
      "[CV] END ................................C=5.0, max_iter=100; total time=   0.3s\n",
      "[CV] END ................................C=5.0, max_iter=500; total time=   0.2s\n",
      "[CV] END ................................C=5.0, max_iter=100; total time=   0.2s\n",
      "[CV] END ................................C=5.0, max_iter=500; total time=   0.2s\n",
      "[CV] END ................................C=5.0, max_iter=500; total time=   0.2s\n"
     ]
    },
    {
     "data": {
      "text/plain": [
       "GridSearchCV(cv=3, estimator=LogisticRegression(random_state=7), n_jobs=-1,\n",
       "             param_grid={'C': [0.1, 0.5, 1.0, 5.0], 'max_iter': [50, 100, 500]},\n",
       "             scoring='accuracy', verbose=2)"
      ]
     },
     "execution_count": 89,
     "metadata": {},
     "output_type": "execute_result"
    }
   ],
   "source": [
    "from sklearn.linear_model import LogisticRegression\n",
    "\n",
    "model=LogisticRegression(random_state=seed)\n",
    "\n",
    "log_params = {\n",
    "               \"max_iter\": [50,100,500],\n",
    "               \"C\": [0.1, 0.5, 1.0, 5.0]\n",
    "}\n",
    "log_gs = GridSearchCV(model, log_params , cv=3, n_jobs=-1,scoring='accuracy',verbose=2)\n",
    "\n",
    "log_gs.fit(X_train_scale, y_train)"
   ]
  },
  {
   "cell_type": "code",
   "execution_count": 600,
   "metadata": {},
   "outputs": [
    {
     "name": "stdout",
     "output_type": "stream",
     "text": [
      "LogisticRegression(C=5.0, max_iter=50, random_state=7)\n",
      "0.8726709061447857\n",
      "{'C': 5.0, 'max_iter': 50}\n"
     ]
    }
   ],
   "source": [
    "print(log_gs.best_estimator_)\n",
    "print(log_gs.best_score_)\n",
    "print(log_gs.best_params_)"
   ]
  },
  {
   "cell_type": "code",
   "execution_count": 601,
   "metadata": {},
   "outputs": [
    {
     "name": "stdout",
     "output_type": "stream",
     "text": [
      "Accuracy 0.8697259008315368\n",
      "Precision 0.8675312644742936\n",
      "Recall 0.827369909002562\n",
      "ROC 0.8649028026284559\n"
     ]
    }
   ],
   "source": [
    "y_pred = log_gs.best_estimator_.predict(X_test_scale)\n",
    "\n",
    "print('Accuracy', accuracy_score(y_test, y_pred))\n",
    "print('Precision', precision_score(y_test, y_pred))\n",
    "print('Recall', recall_score(y_test, y_pred))\n",
    "print('ROC', roc_auc_score(y_test, y_pred))"
   ]
  },
  {
   "cell_type": "markdown",
   "metadata": {},
   "source": [
    "SVC"
   ]
  },
  {
   "cell_type": "code",
   "execution_count": 603,
   "metadata": {},
   "outputs": [
    {
     "name": "stdout",
     "output_type": "stream",
     "text": [
      "Fitting 3 folds for each of 9 candidates, totalling 27 fits\n",
      "[CV] END ..............................C=0.05, kernel=linear; total time= 3.5min\n",
      "[CV] END ..............................C=0.05, kernel=linear; total time= 3.5min\n",
      "[CV] END ..............................C=0.05, kernel=linear; total time= 3.6min\n",
      "[CV] END .................................C=0.05, kernel=rbf; total time= 4.4min\n",
      "[CV] END .................................C=0.05, kernel=rbf; total time= 3.8min\n",
      "[CV] END .................................C=0.05, kernel=rbf; total time= 3.8min\n",
      "[CV] END .............................C=0.05, kernel=sigmoid; total time= 3.3min\n",
      "[CV] END .............................C=0.05, kernel=sigmoid; total time= 4.1min\n",
      "[CV] END ...............................C=0.1, kernel=linear; total time= 3.5min\n",
      "[CV] END ...............................C=0.1, kernel=linear; total time= 3.5min\n",
      "[CV] END ...............................C=0.1, kernel=linear; total time= 3.5min\n",
      "[CV] END .............................C=0.05, kernel=sigmoid; total time= 5.2min\n",
      "[CV] END ..................................C=0.1, kernel=rbf; total time= 3.6min\n",
      "[CV] END ..................................C=0.1, kernel=rbf; total time= 3.6min\n",
      "[CV] END ..................................C=0.1, kernel=rbf; total time= 3.5min\n",
      "[CV] END ..............................C=0.1, kernel=sigmoid; total time= 3.7min\n",
      "[CV] END ..............................C=0.1, kernel=sigmoid; total time= 5.9min\n",
      "[CV] END ...............................C=0.3, kernel=linear; total time= 4.1min\n",
      "[CV] END ..............................C=0.1, kernel=sigmoid; total time= 5.9min\n",
      "[CV] END ..................................C=0.3, kernel=rbf; total time= 3.3min\n",
      "[CV] END ...............................C=0.3, kernel=linear; total time= 5.0min\n",
      "[CV] END ...............................C=0.3, kernel=linear; total time= 5.0min\n",
      "[CV] END ..................................C=0.3, kernel=rbf; total time= 3.8min\n",
      "[CV] END ..................................C=0.3, kernel=rbf; total time= 3.3min\n",
      "[CV] END ..............................C=0.3, kernel=sigmoid; total time= 3.1min\n",
      "[CV] END ..............................C=0.3, kernel=sigmoid; total time= 3.4min\n",
      "[CV] END ..............................C=0.3, kernel=sigmoid; total time= 4.1min\n"
     ]
    },
    {
     "data": {
      "text/plain": [
       "GridSearchCV(cv=3, estimator=SVC(random_state=7), n_jobs=-1,\n",
       "             param_grid={'C': [0.05, 0.1, 0.3],\n",
       "                         'kernel': ['linear', 'rbf', 'sigmoid']},\n",
       "             scoring='accuracy', verbose=2)"
      ]
     },
     "execution_count": 603,
     "metadata": {},
     "output_type": "execute_result"
    }
   ],
   "source": [
    "from sklearn.svm import SVC\n",
    "\n",
    "model=SVC(random_state=seed)\n",
    "\n",
    "svm_params = {\n",
    "              'C': [0.05,0.1,0.3],\n",
    "              'kernel': ['linear','rbf','sigmoid']\n",
    "}\n",
    "svm_gs = GridSearchCV(model, svm_params , cv=3, n_jobs=-1,scoring='accuracy',verbose=2)\n",
    "\n",
    "svm_gs.fit(X_train_scale, y_train)\n"
   ]
  },
  {
   "cell_type": "code",
   "execution_count": 604,
   "metadata": {},
   "outputs": [
    {
     "name": "stdout",
     "output_type": "stream",
     "text": [
      "SVC(C=0.3, random_state=7)\n",
      "0.9485582789105692\n",
      "{'C': 0.3, 'kernel': 'rbf'}\n"
     ]
    }
   ],
   "source": [
    "print(svm_gs.best_estimator_)\n",
    "print(svm_gs.best_score_)\n",
    "print(svm_gs.best_params_)"
   ]
  },
  {
   "cell_type": "code",
   "execution_count": 605,
   "metadata": {},
   "outputs": [
    {
     "name": "stdout",
     "output_type": "stream",
     "text": [
      "Accuracy 0.9484909146904835\n",
      "Precision 0.9521609132916553\n",
      "Recall 0.9284389080307448\n",
      "ROC 0.9462075825546369\n"
     ]
    }
   ],
   "source": [
    "y_pred = svm_gs.best_estimator_.predict(X_test_scale)\n",
    "\n",
    "print('Accuracy', accuracy_score(y_test, y_pred))\n",
    "print('Precision', precision_score(y_test, y_pred))\n",
    "print('Recall', recall_score(y_test, y_pred))\n",
    "print('ROC', roc_auc_score(y_test, y_pred))"
   ]
  },
  {
   "cell_type": "markdown",
   "metadata": {},
   "source": [
    "RandomForestClassifier"
   ]
  },
  {
   "cell_type": "code",
   "execution_count": 53,
   "metadata": {},
   "outputs": [
    {
     "name": "stdout",
     "output_type": "stream",
     "text": [
      "Fitting 3 folds for each of 15 candidates, totalling 45 fits\n",
      "[CV] END max_depth=None, max_features=sqrt, n_estimators=200; total time=  56.8s\n",
      "[CV] END max_depth=None, max_features=sqrt, n_estimators=200; total time=  56.9s\n",
      "[CV] END max_depth=None, max_features=sqrt, n_estimators=200; total time=  57.0s\n",
      "[CV] END max_depth=None, max_features=sqrt, n_estimators=250; total time= 1.2min\n",
      "[CV] END max_depth=None, max_features=sqrt, n_estimators=250; total time= 1.2min\n",
      "[CV] END max_depth=None, max_features=sqrt, n_estimators=250; total time= 1.2min\n",
      "[CV] END max_depth=None, max_features=sqrt, n_estimators=300; total time= 1.5min\n",
      "[CV] END max_depth=None, max_features=sqrt, n_estimators=300; total time= 1.5min\n",
      "[CV] END max_depth=None, max_features=sqrt, n_estimators=300; total time= 1.3min\n",
      "[CV] END max_depth=None, max_features=sqrt, n_estimators=350; total time= 1.6min\n",
      "[CV] END max_depth=None, max_features=sqrt, n_estimators=350; total time= 1.5min\n",
      "[CV] END max_depth=None, max_features=sqrt, n_estimators=350; total time= 1.5min\n",
      "[CV] END ...max_depth=None, max_features=3, n_estimators=200; total time=  51.5s\n",
      "[CV] END max_depth=None, max_features=sqrt, n_estimators=400; total time= 1.9min\n",
      "[CV] END max_depth=None, max_features=sqrt, n_estimators=400; total time= 1.9min\n",
      "[CV] END ...max_depth=None, max_features=3, n_estimators=200; total time=  46.9s\n",
      "[CV] END max_depth=None, max_features=sqrt, n_estimators=400; total time= 1.9min\n",
      "[CV] END ...max_depth=None, max_features=3, n_estimators=200; total time=  42.2s\n",
      "[CV] END ...max_depth=None, max_features=3, n_estimators=250; total time=  52.9s\n",
      "[CV] END ...max_depth=None, max_features=3, n_estimators=250; total time=  53.5s\n",
      "[CV] END ...max_depth=None, max_features=3, n_estimators=250; total time=  53.8s\n",
      "[CV] END ...max_depth=None, max_features=3, n_estimators=300; total time= 1.2min\n",
      "[CV] END ...max_depth=None, max_features=3, n_estimators=300; total time= 1.3min\n",
      "[CV] END ...max_depth=None, max_features=3, n_estimators=300; total time= 1.3min\n",
      "[CV] END ...max_depth=None, max_features=3, n_estimators=350; total time= 1.5min\n",
      "[CV] END ...max_depth=None, max_features=3, n_estimators=350; total time= 1.5min\n",
      "[CV] END ...max_depth=None, max_features=3, n_estimators=350; total time= 1.4min\n",
      "[CV] END ...max_depth=None, max_features=3, n_estimators=400; total time= 1.6min\n",
      "[CV] END ...max_depth=None, max_features=3, n_estimators=400; total time= 1.6min\n",
      "[CV] END ...max_depth=None, max_features=4, n_estimators=200; total time= 1.0min\n",
      "[CV] END ...max_depth=None, max_features=3, n_estimators=400; total time= 1.7min\n",
      "[CV] END ...max_depth=None, max_features=4, n_estimators=200; total time= 1.1min\n",
      "[CV] END ...max_depth=None, max_features=4, n_estimators=200; total time= 1.1min\n",
      "[CV] END ...max_depth=None, max_features=4, n_estimators=250; total time= 1.3min\n",
      "[CV] END ...max_depth=None, max_features=4, n_estimators=250; total time= 1.4min\n",
      "[CV] END ...max_depth=None, max_features=4, n_estimators=250; total time= 1.4min\n",
      "[CV] END ...max_depth=None, max_features=4, n_estimators=300; total time= 1.9min\n",
      "[CV] END ...max_depth=None, max_features=4, n_estimators=300; total time= 2.0min\n",
      "[CV] END ...max_depth=None, max_features=4, n_estimators=300; total time= 2.2min\n",
      "[CV] END ...max_depth=None, max_features=4, n_estimators=350; total time= 2.7min\n",
      "[CV] END ...max_depth=None, max_features=4, n_estimators=350; total time= 2.6min\n",
      "[CV] END ...max_depth=None, max_features=4, n_estimators=350; total time= 2.6min\n",
      "[CV] END ...max_depth=None, max_features=4, n_estimators=400; total time= 2.5min\n",
      "[CV] END ...max_depth=None, max_features=4, n_estimators=400; total time= 2.0min\n",
      "[CV] END ...max_depth=None, max_features=4, n_estimators=400; total time= 1.6min\n"
     ]
    },
    {
     "data": {
      "text/plain": [
       "GridSearchCV(cv=3, estimator=RandomForestClassifier(random_state=7), n_jobs=-1,\n",
       "             param_grid={'max_depth': [None], 'max_features': ['sqrt', 3, 4],\n",
       "                         'n_estimators': [200, 250, 300, 350, 400]},\n",
       "             scoring='accuracy', verbose=2)"
      ]
     },
     "execution_count": 53,
     "metadata": {},
     "output_type": "execute_result"
    }
   ],
   "source": [
    "from sklearn.ensemble import RandomForestClassifier\n",
    "\n",
    "model = RandomForestClassifier(random_state=seed)\n",
    "\n",
    "rf_params = { \n",
    "              'n_estimators': [200,250,300,350,400],\n",
    "              'max_depth': [None],\n",
    "              \"max_features\": [\"sqrt\", 3, 4],            \n",
    "}\n",
    "\n",
    "rf_gs = GridSearchCV(model, rf_params , cv=3, n_jobs=-1,scoring='accuracy',verbose=2)\n",
    "\n",
    "rf_gs.fit(X_train, y_train)"
   ]
  },
  {
   "cell_type": "code",
   "execution_count": 55,
   "metadata": {},
   "outputs": [
    {
     "name": "stdout",
     "output_type": "stream",
     "text": [
      "RandomForestClassifier(max_features='sqrt', n_estimators=300, random_state=7)\n",
      "0.9622536093626132\n",
      "{'max_depth': None, 'max_features': 'sqrt', 'n_estimators': 300}\n"
     ]
    }
   ],
   "source": [
    "print(rf_gs.best_estimator_)\n",
    "print(rf_gs.best_score_)\n",
    "print(rf_gs.best_params_)"
   ]
  },
  {
   "cell_type": "code",
   "execution_count": 56,
   "metadata": {},
   "outputs": [
    {
     "name": "stdout",
     "output_type": "stream",
     "text": [
      "Accuracy 0.9620803818909763\n",
      "Precision 0.9737759031725656\n",
      "Recall 0.9382454280413464\n",
      "ROC 0.9593662836461082\n"
     ]
    }
   ],
   "source": [
    "y_pred = rf_gs.best_estimator_.predict(X_test)\n",
    "\n",
    "print('Accuracy', accuracy_score(y_test, y_pred))\n",
    "print('Precision', precision_score(y_test, y_pred))\n",
    "print('Recall', recall_score(y_test, y_pred))\n",
    "print('ROC', roc_auc_score(y_test, y_pred))"
   ]
  },
  {
   "cell_type": "markdown",
   "metadata": {},
   "source": [
    "GradientBoostingClassifier"
   ]
  },
  {
   "cell_type": "code",
   "execution_count": 166,
   "metadata": {},
   "outputs": [
    {
     "name": "stdout",
     "output_type": "stream",
     "text": [
      "Fitting 3 folds for each of 36 candidates, totalling 108 fits\n",
      "[CV] END ....learning_rate=0.1, max_depth=4, n_estimators=50; total time=  21.6s\n",
      "[CV] END ....learning_rate=0.1, max_depth=4, n_estimators=50; total time=  21.6s\n",
      "[CV] END ....learning_rate=0.1, max_depth=4, n_estimators=50; total time=  21.9s\n",
      "[CV] END ...learning_rate=0.1, max_depth=4, n_estimators=100; total time=  46.5s\n",
      "[CV] END ...learning_rate=0.1, max_depth=4, n_estimators=100; total time=  50.1s\n",
      "[CV] END ...learning_rate=0.1, max_depth=4, n_estimators=100; total time=  50.3s\n",
      "[CV] END ...learning_rate=0.1, max_depth=4, n_estimators=150; total time= 1.2min\n",
      "[CV] END ....learning_rate=0.1, max_depth=5, n_estimators=50; total time=  23.2s\n",
      "[CV] END ...learning_rate=0.1, max_depth=4, n_estimators=150; total time= 1.1min\n",
      "[CV] END ....learning_rate=0.1, max_depth=5, n_estimators=50; total time=  29.7s\n",
      "[CV] END ....learning_rate=0.1, max_depth=5, n_estimators=50; total time=  32.2s\n",
      "[CV] END ...learning_rate=0.1, max_depth=4, n_estimators=150; total time= 1.2min\n",
      "[CV] END ...learning_rate=0.1, max_depth=5, n_estimators=100; total time= 1.1min\n",
      "[CV] END ...learning_rate=0.1, max_depth=5, n_estimators=100; total time= 1.1min\n",
      "[CV] END ...learning_rate=0.1, max_depth=5, n_estimators=100; total time= 1.1min\n",
      "[CV] END ....learning_rate=0.1, max_depth=6, n_estimators=50; total time=  38.9s\n",
      "[CV] END ...learning_rate=0.1, max_depth=5, n_estimators=150; total time= 1.6min\n",
      "[CV] END ....learning_rate=0.1, max_depth=6, n_estimators=50; total time=  33.6s\n",
      "[CV] END ....learning_rate=0.1, max_depth=6, n_estimators=50; total time=  31.6s\n",
      "[CV] END ...learning_rate=0.1, max_depth=5, n_estimators=150; total time= 1.5min\n",
      "[CV] END ...learning_rate=0.1, max_depth=5, n_estimators=150; total time= 1.5min\n"
     ]
    },
    {
     "ename": "KeyboardInterrupt",
     "evalue": "",
     "output_type": "error",
     "traceback": [
      "\u001b[0;31m---------------------------------------------------------------------------\u001b[0m",
      "\u001b[0;31mKeyboardInterrupt\u001b[0m                         Traceback (most recent call last)",
      "\u001b[0;32m/var/folders/lb/zyknzlpn20v0csrvsnk_flt00000gn/T/ipykernel_12206/2506129219.py\u001b[0m in \u001b[0;36m<module>\u001b[0;34m\u001b[0m\n\u001b[1;32m     10\u001b[0m \u001b[0mgb_gs\u001b[0m \u001b[0;34m=\u001b[0m \u001b[0mGridSearchCV\u001b[0m\u001b[0;34m(\u001b[0m\u001b[0mmodel\u001b[0m\u001b[0;34m,\u001b[0m \u001b[0mgb_params\u001b[0m \u001b[0;34m,\u001b[0m \u001b[0mcv\u001b[0m\u001b[0;34m=\u001b[0m\u001b[0;36m3\u001b[0m\u001b[0;34m,\u001b[0m \u001b[0mn_jobs\u001b[0m\u001b[0;34m=\u001b[0m\u001b[0;34m-\u001b[0m\u001b[0;36m1\u001b[0m\u001b[0;34m,\u001b[0m\u001b[0mscoring\u001b[0m\u001b[0;34m=\u001b[0m\u001b[0;34m'accuracy'\u001b[0m\u001b[0;34m,\u001b[0m\u001b[0mverbose\u001b[0m\u001b[0;34m=\u001b[0m\u001b[0;36m2\u001b[0m\u001b[0;34m)\u001b[0m\u001b[0;34m\u001b[0m\u001b[0;34m\u001b[0m\u001b[0m\n\u001b[1;32m     11\u001b[0m \u001b[0;34m\u001b[0m\u001b[0m\n\u001b[0;32m---> 12\u001b[0;31m \u001b[0mgb_gs\u001b[0m\u001b[0;34m.\u001b[0m\u001b[0mfit\u001b[0m\u001b[0;34m(\u001b[0m\u001b[0mX_train_scale\u001b[0m\u001b[0;34m,\u001b[0m \u001b[0my_train\u001b[0m\u001b[0;34m)\u001b[0m\u001b[0;34m\u001b[0m\u001b[0;34m\u001b[0m\u001b[0m\n\u001b[0m",
      "\u001b[0;32m/Library/Frameworks/Python.framework/Versions/3.7/lib/python3.7/site-packages/sklearn/model_selection/_search.py\u001b[0m in \u001b[0;36mfit\u001b[0;34m(self, X, y, groups, **fit_params)\u001b[0m\n\u001b[1;32m    889\u001b[0m                 \u001b[0;32mreturn\u001b[0m \u001b[0mresults\u001b[0m\u001b[0;34m\u001b[0m\u001b[0;34m\u001b[0m\u001b[0m\n\u001b[1;32m    890\u001b[0m \u001b[0;34m\u001b[0m\u001b[0m\n\u001b[0;32m--> 891\u001b[0;31m             \u001b[0mself\u001b[0m\u001b[0;34m.\u001b[0m\u001b[0m_run_search\u001b[0m\u001b[0;34m(\u001b[0m\u001b[0mevaluate_candidates\u001b[0m\u001b[0;34m)\u001b[0m\u001b[0;34m\u001b[0m\u001b[0;34m\u001b[0m\u001b[0m\n\u001b[0m\u001b[1;32m    892\u001b[0m \u001b[0;34m\u001b[0m\u001b[0m\n\u001b[1;32m    893\u001b[0m             \u001b[0;31m# multimetric is determined here because in the case of a callable\u001b[0m\u001b[0;34m\u001b[0m\u001b[0;34m\u001b[0m\u001b[0;34m\u001b[0m\u001b[0m\n",
      "\u001b[0;32m/Library/Frameworks/Python.framework/Versions/3.7/lib/python3.7/site-packages/sklearn/model_selection/_search.py\u001b[0m in \u001b[0;36m_run_search\u001b[0;34m(self, evaluate_candidates)\u001b[0m\n\u001b[1;32m   1390\u001b[0m     \u001b[0;32mdef\u001b[0m \u001b[0m_run_search\u001b[0m\u001b[0;34m(\u001b[0m\u001b[0mself\u001b[0m\u001b[0;34m,\u001b[0m \u001b[0mevaluate_candidates\u001b[0m\u001b[0;34m)\u001b[0m\u001b[0;34m:\u001b[0m\u001b[0;34m\u001b[0m\u001b[0;34m\u001b[0m\u001b[0m\n\u001b[1;32m   1391\u001b[0m         \u001b[0;34m\"\"\"Search all candidates in param_grid\"\"\"\u001b[0m\u001b[0;34m\u001b[0m\u001b[0;34m\u001b[0m\u001b[0m\n\u001b[0;32m-> 1392\u001b[0;31m         \u001b[0mevaluate_candidates\u001b[0m\u001b[0;34m(\u001b[0m\u001b[0mParameterGrid\u001b[0m\u001b[0;34m(\u001b[0m\u001b[0mself\u001b[0m\u001b[0;34m.\u001b[0m\u001b[0mparam_grid\u001b[0m\u001b[0;34m)\u001b[0m\u001b[0;34m)\u001b[0m\u001b[0;34m\u001b[0m\u001b[0;34m\u001b[0m\u001b[0m\n\u001b[0m\u001b[1;32m   1393\u001b[0m \u001b[0;34m\u001b[0m\u001b[0m\n\u001b[1;32m   1394\u001b[0m \u001b[0;34m\u001b[0m\u001b[0m\n",
      "\u001b[0;32m/Library/Frameworks/Python.framework/Versions/3.7/lib/python3.7/site-packages/sklearn/model_selection/_search.py\u001b[0m in \u001b[0;36mevaluate_candidates\u001b[0;34m(candidate_params, cv, more_results)\u001b[0m\n\u001b[1;32m    849\u001b[0m                     )\n\u001b[1;32m    850\u001b[0m                     for (cand_idx, parameters), (split_idx, (train, test)) in product(\n\u001b[0;32m--> 851\u001b[0;31m                         \u001b[0menumerate\u001b[0m\u001b[0;34m(\u001b[0m\u001b[0mcandidate_params\u001b[0m\u001b[0;34m)\u001b[0m\u001b[0;34m,\u001b[0m \u001b[0menumerate\u001b[0m\u001b[0;34m(\u001b[0m\u001b[0mcv\u001b[0m\u001b[0;34m.\u001b[0m\u001b[0msplit\u001b[0m\u001b[0;34m(\u001b[0m\u001b[0mX\u001b[0m\u001b[0;34m,\u001b[0m \u001b[0my\u001b[0m\u001b[0;34m,\u001b[0m \u001b[0mgroups\u001b[0m\u001b[0;34m)\u001b[0m\u001b[0;34m)\u001b[0m\u001b[0;34m\u001b[0m\u001b[0;34m\u001b[0m\u001b[0m\n\u001b[0m\u001b[1;32m    852\u001b[0m                     )\n\u001b[1;32m    853\u001b[0m                 )\n",
      "\u001b[0;32m/Library/Frameworks/Python.framework/Versions/3.7/lib/python3.7/site-packages/joblib/parallel.py\u001b[0m in \u001b[0;36m__call__\u001b[0;34m(self, iterable)\u001b[0m\n\u001b[1;32m   1054\u001b[0m \u001b[0;34m\u001b[0m\u001b[0m\n\u001b[1;32m   1055\u001b[0m             \u001b[0;32mwith\u001b[0m \u001b[0mself\u001b[0m\u001b[0;34m.\u001b[0m\u001b[0m_backend\u001b[0m\u001b[0;34m.\u001b[0m\u001b[0mretrieval_context\u001b[0m\u001b[0;34m(\u001b[0m\u001b[0;34m)\u001b[0m\u001b[0;34m:\u001b[0m\u001b[0;34m\u001b[0m\u001b[0;34m\u001b[0m\u001b[0m\n\u001b[0;32m-> 1056\u001b[0;31m                 \u001b[0mself\u001b[0m\u001b[0;34m.\u001b[0m\u001b[0mretrieve\u001b[0m\u001b[0;34m(\u001b[0m\u001b[0;34m)\u001b[0m\u001b[0;34m\u001b[0m\u001b[0;34m\u001b[0m\u001b[0m\n\u001b[0m\u001b[1;32m   1057\u001b[0m             \u001b[0;31m# Make sure that we get a last message telling us we are done\u001b[0m\u001b[0;34m\u001b[0m\u001b[0;34m\u001b[0m\u001b[0;34m\u001b[0m\u001b[0m\n\u001b[1;32m   1058\u001b[0m             \u001b[0melapsed_time\u001b[0m \u001b[0;34m=\u001b[0m \u001b[0mtime\u001b[0m\u001b[0;34m.\u001b[0m\u001b[0mtime\u001b[0m\u001b[0;34m(\u001b[0m\u001b[0;34m)\u001b[0m \u001b[0;34m-\u001b[0m \u001b[0mself\u001b[0m\u001b[0;34m.\u001b[0m\u001b[0m_start_time\u001b[0m\u001b[0;34m\u001b[0m\u001b[0;34m\u001b[0m\u001b[0m\n",
      "\u001b[0;32m/Library/Frameworks/Python.framework/Versions/3.7/lib/python3.7/site-packages/joblib/parallel.py\u001b[0m in \u001b[0;36mretrieve\u001b[0;34m(self)\u001b[0m\n\u001b[1;32m    933\u001b[0m             \u001b[0;32mtry\u001b[0m\u001b[0;34m:\u001b[0m\u001b[0;34m\u001b[0m\u001b[0;34m\u001b[0m\u001b[0m\n\u001b[1;32m    934\u001b[0m                 \u001b[0;32mif\u001b[0m \u001b[0mgetattr\u001b[0m\u001b[0;34m(\u001b[0m\u001b[0mself\u001b[0m\u001b[0;34m.\u001b[0m\u001b[0m_backend\u001b[0m\u001b[0;34m,\u001b[0m \u001b[0;34m'supports_timeout'\u001b[0m\u001b[0;34m,\u001b[0m \u001b[0;32mFalse\u001b[0m\u001b[0;34m)\u001b[0m\u001b[0;34m:\u001b[0m\u001b[0;34m\u001b[0m\u001b[0;34m\u001b[0m\u001b[0m\n\u001b[0;32m--> 935\u001b[0;31m                     \u001b[0mself\u001b[0m\u001b[0;34m.\u001b[0m\u001b[0m_output\u001b[0m\u001b[0;34m.\u001b[0m\u001b[0mextend\u001b[0m\u001b[0;34m(\u001b[0m\u001b[0mjob\u001b[0m\u001b[0;34m.\u001b[0m\u001b[0mget\u001b[0m\u001b[0;34m(\u001b[0m\u001b[0mtimeout\u001b[0m\u001b[0;34m=\u001b[0m\u001b[0mself\u001b[0m\u001b[0;34m.\u001b[0m\u001b[0mtimeout\u001b[0m\u001b[0;34m)\u001b[0m\u001b[0;34m)\u001b[0m\u001b[0;34m\u001b[0m\u001b[0;34m\u001b[0m\u001b[0m\n\u001b[0m\u001b[1;32m    936\u001b[0m                 \u001b[0;32melse\u001b[0m\u001b[0;34m:\u001b[0m\u001b[0;34m\u001b[0m\u001b[0;34m\u001b[0m\u001b[0m\n\u001b[1;32m    937\u001b[0m                     \u001b[0mself\u001b[0m\u001b[0;34m.\u001b[0m\u001b[0m_output\u001b[0m\u001b[0;34m.\u001b[0m\u001b[0mextend\u001b[0m\u001b[0;34m(\u001b[0m\u001b[0mjob\u001b[0m\u001b[0;34m.\u001b[0m\u001b[0mget\u001b[0m\u001b[0;34m(\u001b[0m\u001b[0;34m)\u001b[0m\u001b[0;34m)\u001b[0m\u001b[0;34m\u001b[0m\u001b[0;34m\u001b[0m\u001b[0m\n",
      "\u001b[0;32m/Library/Frameworks/Python.framework/Versions/3.7/lib/python3.7/site-packages/joblib/_parallel_backends.py\u001b[0m in \u001b[0;36mwrap_future_result\u001b[0;34m(future, timeout)\u001b[0m\n\u001b[1;32m    540\u001b[0m         AsyncResults.get from multiprocessing.\"\"\"\n\u001b[1;32m    541\u001b[0m         \u001b[0;32mtry\u001b[0m\u001b[0;34m:\u001b[0m\u001b[0;34m\u001b[0m\u001b[0;34m\u001b[0m\u001b[0m\n\u001b[0;32m--> 542\u001b[0;31m             \u001b[0;32mreturn\u001b[0m \u001b[0mfuture\u001b[0m\u001b[0;34m.\u001b[0m\u001b[0mresult\u001b[0m\u001b[0;34m(\u001b[0m\u001b[0mtimeout\u001b[0m\u001b[0;34m=\u001b[0m\u001b[0mtimeout\u001b[0m\u001b[0;34m)\u001b[0m\u001b[0;34m\u001b[0m\u001b[0;34m\u001b[0m\u001b[0m\n\u001b[0m\u001b[1;32m    543\u001b[0m         \u001b[0;32mexcept\u001b[0m \u001b[0mCfTimeoutError\u001b[0m \u001b[0;32mas\u001b[0m \u001b[0me\u001b[0m\u001b[0;34m:\u001b[0m\u001b[0;34m\u001b[0m\u001b[0;34m\u001b[0m\u001b[0m\n\u001b[1;32m    544\u001b[0m             \u001b[0;32mraise\u001b[0m \u001b[0mTimeoutError\u001b[0m \u001b[0;32mfrom\u001b[0m \u001b[0me\u001b[0m\u001b[0;34m\u001b[0m\u001b[0;34m\u001b[0m\u001b[0m\n",
      "\u001b[0;32m/Library/Frameworks/Python.framework/Versions/3.7/lib/python3.7/concurrent/futures/_base.py\u001b[0m in \u001b[0;36mresult\u001b[0;34m(self, timeout)\u001b[0m\n\u001b[1;32m    428\u001b[0m                 \u001b[0;32mreturn\u001b[0m \u001b[0mself\u001b[0m\u001b[0;34m.\u001b[0m\u001b[0m__get_result\u001b[0m\u001b[0;34m(\u001b[0m\u001b[0;34m)\u001b[0m\u001b[0;34m\u001b[0m\u001b[0;34m\u001b[0m\u001b[0m\n\u001b[1;32m    429\u001b[0m \u001b[0;34m\u001b[0m\u001b[0m\n\u001b[0;32m--> 430\u001b[0;31m             \u001b[0mself\u001b[0m\u001b[0;34m.\u001b[0m\u001b[0m_condition\u001b[0m\u001b[0;34m.\u001b[0m\u001b[0mwait\u001b[0m\u001b[0;34m(\u001b[0m\u001b[0mtimeout\u001b[0m\u001b[0;34m)\u001b[0m\u001b[0;34m\u001b[0m\u001b[0;34m\u001b[0m\u001b[0m\n\u001b[0m\u001b[1;32m    431\u001b[0m \u001b[0;34m\u001b[0m\u001b[0m\n\u001b[1;32m    432\u001b[0m             \u001b[0;32mif\u001b[0m \u001b[0mself\u001b[0m\u001b[0;34m.\u001b[0m\u001b[0m_state\u001b[0m \u001b[0;32min\u001b[0m \u001b[0;34m[\u001b[0m\u001b[0mCANCELLED\u001b[0m\u001b[0;34m,\u001b[0m \u001b[0mCANCELLED_AND_NOTIFIED\u001b[0m\u001b[0;34m]\u001b[0m\u001b[0;34m:\u001b[0m\u001b[0;34m\u001b[0m\u001b[0;34m\u001b[0m\u001b[0m\n",
      "\u001b[0;32m/Library/Frameworks/Python.framework/Versions/3.7/lib/python3.7/threading.py\u001b[0m in \u001b[0;36mwait\u001b[0;34m(self, timeout)\u001b[0m\n\u001b[1;32m    294\u001b[0m         \u001b[0;32mtry\u001b[0m\u001b[0;34m:\u001b[0m    \u001b[0;31m# restore state no matter what (e.g., KeyboardInterrupt)\u001b[0m\u001b[0;34m\u001b[0m\u001b[0;34m\u001b[0m\u001b[0m\n\u001b[1;32m    295\u001b[0m             \u001b[0;32mif\u001b[0m \u001b[0mtimeout\u001b[0m \u001b[0;32mis\u001b[0m \u001b[0;32mNone\u001b[0m\u001b[0;34m:\u001b[0m\u001b[0;34m\u001b[0m\u001b[0;34m\u001b[0m\u001b[0m\n\u001b[0;32m--> 296\u001b[0;31m                 \u001b[0mwaiter\u001b[0m\u001b[0;34m.\u001b[0m\u001b[0macquire\u001b[0m\u001b[0;34m(\u001b[0m\u001b[0;34m)\u001b[0m\u001b[0;34m\u001b[0m\u001b[0;34m\u001b[0m\u001b[0m\n\u001b[0m\u001b[1;32m    297\u001b[0m                 \u001b[0mgotit\u001b[0m \u001b[0;34m=\u001b[0m \u001b[0;32mTrue\u001b[0m\u001b[0;34m\u001b[0m\u001b[0;34m\u001b[0m\u001b[0m\n\u001b[1;32m    298\u001b[0m             \u001b[0;32melse\u001b[0m\u001b[0;34m:\u001b[0m\u001b[0;34m\u001b[0m\u001b[0;34m\u001b[0m\u001b[0m\n",
      "\u001b[0;31mKeyboardInterrupt\u001b[0m: "
     ]
    }
   ],
   "source": [
    "from sklearn.ensemble import GradientBoostingClassifier\n",
    "\n",
    "model = GradientBoostingClassifier(random_state=seed)\n",
    "\n",
    "gb_params =  {\n",
    "              'n_estimators': [50,100,150],\n",
    "              'learning_rate': [0.1,0.3,0.5,0.7],\n",
    "              'max_depth': [4,5,6]\n",
    "}\n",
    "gb_gs = GridSearchCV(model, gb_params , cv=3, n_jobs=-1,scoring='accuracy',verbose=2)\n",
    "\n",
    "gb_gs.fit(X_train_scale, y_train)     "
   ]
  },
  {
   "cell_type": "code",
   "execution_count": 608,
   "metadata": {},
   "outputs": [
    {
     "name": "stdout",
     "output_type": "stream",
     "text": [
      "GradientBoostingClassifier(max_depth=6, n_estimators=150, random_state=7)\n",
      "0.9622632413192478\n",
      "{'learning_rate': 0.1, 'max_depth': 6, 'n_estimators': 150}\n"
     ]
    }
   ],
   "source": [
    "print(gb_gs.best_estimator_)\n",
    "print(gb_gs.best_score_)\n",
    "print(gb_gs.best_params_)"
   ]
  },
  {
   "cell_type": "code",
   "execution_count": 609,
   "metadata": {},
   "outputs": [
    {
     "name": "stdout",
     "output_type": "stream",
     "text": [
      "Accuracy 0.9617339082229751\n",
      "Precision 0.9721942742156773\n",
      "Recall 0.9390405512854493\n",
      "ROC 0.9591498041956344\n"
     ]
    }
   ],
   "source": [
    "y_pred = gb_gs.best_estimator_.predict(X_test_scale)\n",
    "\n",
    "print('Accuracy', accuracy_score(y_test, y_pred))\n",
    "print('Precision', precision_score(y_test, y_pred))\n",
    "print('Recall', recall_score(y_test, y_pred))\n",
    "print('ROC', roc_auc_score(y_test, y_pred))"
   ]
  },
  {
   "cell_type": "markdown",
   "metadata": {},
   "source": [
    "KNeighborsClassifier"
   ]
  },
  {
   "cell_type": "code",
   "execution_count": 45,
   "metadata": {},
   "outputs": [
    {
     "name": "stdout",
     "output_type": "stream",
     "text": [
      "Fitting 3 folds for each of 4 candidates, totalling 12 fits\n",
      "[CV] END ......................................n_neighbors=3; total time= 2.9min\n",
      "[CV] END ......................................n_neighbors=3; total time= 2.9min\n",
      "[CV] END ......................................n_neighbors=3; total time= 3.0min\n",
      "[CV] END ......................................n_neighbors=5; total time= 3.0min\n",
      "[CV] END ......................................n_neighbors=5; total time= 2.6min\n",
      "[CV] END ......................................n_neighbors=7; total time= 2.6min\n",
      "[CV] END ......................................n_neighbors=5; total time= 2.8min\n",
      "[CV] END ......................................n_neighbors=7; total time= 2.8min\n",
      "[CV] END ......................................n_neighbors=9; total time= 2.5min\n",
      "[CV] END ......................................n_neighbors=7; total time= 2.6min\n",
      "[CV] END ......................................n_neighbors=9; total time= 2.5min\n",
      "[CV] END ......................................n_neighbors=9; total time= 2.4min\n"
     ]
    },
    {
     "data": {
      "text/plain": [
       "GridSearchCV(cv=3, estimator=KNeighborsClassifier(), n_jobs=-1,\n",
       "             param_grid={'n_neighbors': [3, 5, 7, 9]}, scoring='accuracy',\n",
       "             verbose=2)"
      ]
     },
     "execution_count": 45,
     "metadata": {},
     "output_type": "execute_result"
    }
   ],
   "source": [
    "from sklearn.neighbors import KNeighborsClassifier\n",
    "\n",
    "model= KNeighborsClassifier()\n",
    "\n",
    "knn_params = { \n",
    "              \"n_neighbors\": [3,5,7,9],       \n",
    "             \n",
    "}\n",
    "knn_gs = GridSearchCV(model, knn_params , cv=3, n_jobs=-1,scoring='accuracy',verbose=2)\n",
    "\n",
    "knn_gs.fit(X_train_scale, y_train) "
   ]
  },
  {
   "cell_type": "code",
   "execution_count": 46,
   "metadata": {},
   "outputs": [
    {
     "name": "stdout",
     "output_type": "stream",
     "text": [
      "KNeighborsClassifier(n_neighbors=9)\n",
      "0.9337657673931047\n",
      "{'n_neighbors': 9}\n"
     ]
    }
   ],
   "source": [
    "print(knn_gs.best_estimator_)\n",
    "print(knn_gs.best_score_)\n",
    "print(knn_gs.best_params_)"
   ]
  },
  {
   "cell_type": "code",
   "execution_count": 47,
   "metadata": {},
   "outputs": [
    {
     "name": "stdout",
     "output_type": "stream",
     "text": [
      "Accuracy 0.9353634123806591\n",
      "Precision 0.9599236641221374\n",
      "Recall 0.8887710928527255\n",
      "ROC 0.9300579214007777\n"
     ]
    }
   ],
   "source": [
    "y_pred = knn_gs.best_estimator_.predict(X_test_scale)\n",
    "\n",
    "print('Accuracy', accuracy_score(y_test, y_pred))\n",
    "print('Precision', precision_score(y_test, y_pred))\n",
    "print('Recall', recall_score(y_test, y_pred))\n",
    "print('ROC', roc_auc_score(y_test, y_pred))"
   ]
  },
  {
   "cell_type": "markdown",
   "metadata": {},
   "source": [
    "## Resultado"
   ]
  },
  {
   "cell_type": "code",
   "execution_count": 57,
   "metadata": {},
   "outputs": [
    {
     "data": {
      "text/html": [
       "<div>\n",
       "<style scoped>\n",
       "    .dataframe tbody tr th:only-of-type {\n",
       "        vertical-align: middle;\n",
       "    }\n",
       "\n",
       "    .dataframe tbody tr th {\n",
       "        vertical-align: top;\n",
       "    }\n",
       "\n",
       "    .dataframe thead th {\n",
       "        text-align: right;\n",
       "    }\n",
       "</style>\n",
       "<table border=\"1\" class=\"dataframe\">\n",
       "  <thead>\n",
       "    <tr style=\"text-align: right;\">\n",
       "      <th></th>\n",
       "      <th>accuracy</th>\n",
       "    </tr>\n",
       "  </thead>\n",
       "  <tbody>\n",
       "    <tr>\n",
       "      <th>rf</th>\n",
       "      <td>0.962080</td>\n",
       "    </tr>\n",
       "    <tr>\n",
       "      <th>gb</th>\n",
       "      <td>0.961734</td>\n",
       "    </tr>\n",
       "    <tr>\n",
       "      <th>svm</th>\n",
       "      <td>0.948491</td>\n",
       "    </tr>\n",
       "    <tr>\n",
       "      <th>knn</th>\n",
       "      <td>0.935363</td>\n",
       "    </tr>\n",
       "    <tr>\n",
       "      <th>log</th>\n",
       "      <td>0.869726</td>\n",
       "    </tr>\n",
       "  </tbody>\n",
       "</table>\n",
       "</div>"
      ],
      "text/plain": [
       "     accuracy\n",
       "rf   0.962080\n",
       "gb   0.961734\n",
       "svm  0.948491\n",
       "knn  0.935363\n",
       "log  0.869726"
      ]
     },
     "execution_count": 57,
     "metadata": {},
     "output_type": "execute_result"
    }
   ],
   "source": [
    "data={'accuracy':{\"log\":0.8697259008315368,\"svm\":0.9484909146904835,\"rf\":0.9620803818909763,\"gb\":0.9617339082229751,\"knn\":0.9353634123806591}}\n",
    "df=pd.DataFrame(data)\n",
    "df.sort_values(\"accuracy\", ascending=False)"
   ]
  },
  {
   "cell_type": "markdown",
   "metadata": {},
   "source": [
    "El modelo escogido es el RandomForestClassifier debido a que es el que mejor generaliza ante datos nuevos, teniendo la mejor métrica de Accuracy ,con parametros {'max_depth': None, 'max_features': 'sqrt', 'n_estimators': 300} ."
   ]
  },
  {
   "cell_type": "code",
   "execution_count": 167,
   "metadata": {},
   "outputs": [
    {
     "data": {
      "text/plain": [
       "RandomForestClassifier(max_features='sqrt', n_estimators=300, random_state=7)"
      ]
     },
     "execution_count": 167,
     "metadata": {},
     "output_type": "execute_result"
    }
   ],
   "source": [
    "from sklearn.ensemble import RandomForestClassifier\n",
    "\n",
    "rf_model = RandomForestClassifier(random_state=seed, n_estimators=300,\n",
    "              max_depth=None,max_features=\"sqrt\")\n",
    "\n",
    "\n",
    "rf_model.fit(X_train, y_train)"
   ]
  },
  {
   "cell_type": "code",
   "execution_count": 168,
   "metadata": {},
   "outputs": [],
   "source": [
    "y_pred_best= rf_model.predict(X_test)"
   ]
  },
  {
   "cell_type": "code",
   "execution_count": 169,
   "metadata": {},
   "outputs": [
    {
     "name": "stdout",
     "output_type": "stream",
     "text": [
      "              precision    recall  f1-score   support\n",
      "\n",
      "           0       0.95      0.98      0.97     14657\n",
      "           1       0.97      0.94      0.96     11319\n",
      "\n",
      "    accuracy                           0.96     25976\n",
      "   macro avg       0.96      0.96      0.96     25976\n",
      "weighted avg       0.96      0.96      0.96     25976\n",
      "\n"
     ]
    }
   ],
   "source": [
    "from sklearn.metrics import classification_report, accuracy_score, confusion_matrix\n",
    "\n",
    "print(classification_report(y_test, y_pred_best))"
   ]
  },
  {
   "cell_type": "code",
   "execution_count": 170,
   "metadata": {},
   "outputs": [
    {
     "data": {
      "text/plain": [
       "0.9620803818909763"
      ]
     },
     "execution_count": 170,
     "metadata": {},
     "output_type": "execute_result"
    }
   ],
   "source": [
    "accuracy_score(y_test, y_pred_best)"
   ]
  },
  {
   "cell_type": "code",
   "execution_count": 643,
   "metadata": {},
   "outputs": [
    {
     "data": {
      "text/plain": [
       "<AxesSubplot:>"
      ]
     },
     "execution_count": 643,
     "metadata": {},
     "output_type": "execute_result"
    },
    {
     "data": {
      "image/png": "[encoded data removed]",
      "text/plain": [
       "<Figure size 432x288 with 2 Axes>"
      ]
     },
     "metadata": {
      "needs_background": "light"
     },
     "output_type": "display_data"
    }
   ],
   "source": [
    "confusion_matrix(y_test,y_pred_best)\n",
    "sns.heatmap(confusion_matrix(y_test,y_pred_best, normalize='true'), annot=True)"
   ]
  },
  {
   "cell_type": "markdown",
   "metadata": {},
   "source": [
    "#### Random Forest features importances "
   ]
  },
  {
   "cell_type": "code",
   "execution_count": 193,
   "metadata": {},
   "outputs": [
    {
     "data": {
      "text/plain": [
       "array([0.03688222, 0.03786312, 0.10010486, 0.103371  , 0.04314536,\n",
       "       0.14943304, 0.03925736, 0.0122799 , 0.19977983, 0.04466503,\n",
       "       0.06407564, 0.02876914, 0.03823528, 0.02705737, 0.02728838,\n",
       "       0.02399593, 0.02379656])"
      ]
     },
     "execution_count": 193,
     "metadata": {},
     "output_type": "execute_result"
    }
   ],
   "source": [
    "#Obtenemos el feature_importances\n",
    "rf_model.feature_importances_"
   ]
  },
  {
   "cell_type": "code",
   "execution_count": 196,
   "metadata": {},
   "outputs": [
    {
     "data": {
      "text/html": [
       "<div>\n",
       "<style scoped>\n",
       "    .dataframe tbody tr th:only-of-type {\n",
       "        vertical-align: middle;\n",
       "    }\n",
       "\n",
       "    .dataframe tbody tr th {\n",
       "        vertical-align: top;\n",
       "    }\n",
       "\n",
       "    .dataframe thead th {\n",
       "        text-align: right;\n",
       "    }\n",
       "</style>\n",
       "<table border=\"1\" class=\"dataframe\">\n",
       "  <thead>\n",
       "    <tr style=\"text-align: right;\">\n",
       "      <th></th>\n",
       "      <th>Feature imp. RND</th>\n",
       "    </tr>\n",
       "  </thead>\n",
       "  <tbody>\n",
       "    <tr>\n",
       "      <th>Online boarding</th>\n",
       "      <td>0.199780</td>\n",
       "    </tr>\n",
       "    <tr>\n",
       "      <th>Inflight wifi service</th>\n",
       "      <td>0.149433</td>\n",
       "    </tr>\n",
       "    <tr>\n",
       "      <th>Class</th>\n",
       "      <td>0.103371</td>\n",
       "    </tr>\n",
       "    <tr>\n",
       "      <th>Type of Travel</th>\n",
       "      <td>0.100105</td>\n",
       "    </tr>\n",
       "    <tr>\n",
       "      <th>Inflight entertainment</th>\n",
       "      <td>0.064076</td>\n",
       "    </tr>\n",
       "    <tr>\n",
       "      <th>Seat comfort</th>\n",
       "      <td>0.044665</td>\n",
       "    </tr>\n",
       "    <tr>\n",
       "      <th>Flight Distance</th>\n",
       "      <td>0.043145</td>\n",
       "    </tr>\n",
       "    <tr>\n",
       "      <th>Ease of Online booking</th>\n",
       "      <td>0.039257</td>\n",
       "    </tr>\n",
       "    <tr>\n",
       "      <th>Leg room service</th>\n",
       "      <td>0.038235</td>\n",
       "    </tr>\n",
       "    <tr>\n",
       "      <th>Age</th>\n",
       "      <td>0.037863</td>\n",
       "    </tr>\n",
       "    <tr>\n",
       "      <th>Customer Type</th>\n",
       "      <td>0.036882</td>\n",
       "    </tr>\n",
       "    <tr>\n",
       "      <th>On-board service</th>\n",
       "      <td>0.028769</td>\n",
       "    </tr>\n",
       "    <tr>\n",
       "      <th>Checkin service</th>\n",
       "      <td>0.027288</td>\n",
       "    </tr>\n",
       "    <tr>\n",
       "      <th>Baggage handling</th>\n",
       "      <td>0.027057</td>\n",
       "    </tr>\n",
       "    <tr>\n",
       "      <th>Inflight service</th>\n",
       "      <td>0.023996</td>\n",
       "    </tr>\n",
       "    <tr>\n",
       "      <th>Cleanliness</th>\n",
       "      <td>0.023797</td>\n",
       "    </tr>\n",
       "    <tr>\n",
       "      <th>Food and drink</th>\n",
       "      <td>0.012280</td>\n",
       "    </tr>\n",
       "  </tbody>\n",
       "</table>\n",
       "</div>"
      ],
      "text/plain": [
       "                        Feature imp. RND\n",
       "Online boarding                 0.199780\n",
       "Inflight wifi service           0.149433\n",
       "Class                           0.103371\n",
       "Type of Travel                  0.100105\n",
       "Inflight entertainment          0.064076\n",
       "Seat comfort                    0.044665\n",
       "Flight Distance                 0.043145\n",
       "Ease of Online booking          0.039257\n",
       "Leg room service                0.038235\n",
       "Age                             0.037863\n",
       "Customer Type                   0.036882\n",
       "On-board service                0.028769\n",
       "Checkin service                 0.027288\n",
       "Baggage handling                0.027057\n",
       "Inflight service                0.023996\n",
       "Cleanliness                     0.023797\n",
       "Food and drink                  0.012280"
      ]
     },
     "execution_count": 196,
     "metadata": {},
     "output_type": "execute_result"
    }
   ],
   "source": [
    "fi_rnd= pd.DataFrame(rf_model.feature_importances_,\n",
    "                        X.columns,\n",
    "                        columns = [\"Feature imp. RND\"]).sort_values(\"Feature imp. RND\", ascending=False)\n",
    "fi_rnd"
   ]
  },
  {
   "cell_type": "code",
   "execution_count": 656,
   "metadata": {},
   "outputs": [
    {
     "data": {
      "image/png": "[encoded data removed]",
      "text/plain": [
       "<Figure size 432x288 with 1 Axes>"
      ]
     },
     "metadata": {
      "needs_background": "light"
     },
     "output_type": "display_data"
    }
   ],
   "source": [
    "#Visualizamos\n",
    "fi_rnd.sort_values(\"Feature imp. RND\").plot.barh(y='Feature imp. RND');"
   ]
  },
  {
   "cell_type": "markdown",
   "metadata": {},
   "source": [
    "## Pickle"
   ]
  },
  {
   "cell_type": "markdown",
   "metadata": {},
   "source": [
    "LogisticRegression(C=5.0, max_iter=50, random_state=7)\n",
    "0.8726709061447857\n",
    "{'C': 5.0, 'max_iter': 50}"
   ]
  },
  {
   "cell_type": "code",
   "execution_count": 181,
   "metadata": {},
   "outputs": [
    {
     "data": {
      "text/plain": [
       "LogisticRegression(C=5.0, max_iter=50, random_state=7)"
      ]
     },
     "execution_count": 181,
     "metadata": {},
     "output_type": "execute_result"
    }
   ],
   "source": [
    "from sklearn.linear_model import LogisticRegression\n",
    "\n",
    "log_model=LogisticRegression(random_state=seed,max_iter=50,\n",
    "               C= 5.0)\n",
    "\n",
    "log_model.fit(X_train_scale, y_train)"
   ]
  },
  {
   "cell_type": "code",
   "execution_count": 174,
   "metadata": {},
   "outputs": [
    {
     "data": {
      "text/plain": [
       "SVC(C=0.3, random_state=7)"
      ]
     },
     "execution_count": 174,
     "metadata": {},
     "output_type": "execute_result"
    }
   ],
   "source": [
    "from sklearn.svm import SVC\n",
    "\n",
    "svm_model=SVC(random_state=seed,C=0.3,\n",
    "              kernel='rbf')\n",
    "\n",
    "svm_model.fit(X_train_scale, y_train)"
   ]
  },
  {
   "cell_type": "code",
   "execution_count": 182,
   "metadata": {},
   "outputs": [
    {
     "data": {
      "text/plain": [
       "GradientBoostingClassifier(n_estimators=150, random_state=7)"
      ]
     },
     "execution_count": 182,
     "metadata": {},
     "output_type": "execute_result"
    }
   ],
   "source": [
    "from sklearn.ensemble import GradientBoostingClassifier\n",
    "\n",
    "gb_model = GradientBoostingClassifier(random_state=seed,n_estimators=150,\n",
    "              learning_rate=0.1)\n",
    "\n",
    "gb_model.fit(X_train_scale, y_train)   "
   ]
  },
  {
   "cell_type": "code",
   "execution_count": 183,
   "metadata": {},
   "outputs": [
    {
     "data": {
      "text/plain": [
       "KNeighborsClassifier(n_neighbors=9)"
      ]
     },
     "execution_count": 183,
     "metadata": {},
     "output_type": "execute_result"
    }
   ],
   "source": [
    "from sklearn.neighbors import KNeighborsClassifier\n",
    "\n",
    "knn_model= KNeighborsClassifier(n_neighbors=9)\n",
    "\n",
    "knn_model.fit(X_train_scale, y_train) "
   ]
  },
  {
   "cell_type": "code",
   "execution_count": 187,
   "metadata": {},
   "outputs": [],
   "source": [
    "# Guardar el modelo\n",
    "import pickle\n",
    "\n",
    "with open('my_model_knn.model', 'wb') as archivo_salida:\n",
    "    pickle.dump(knn_model, archivo_salida)"
   ]
  },
  {
   "cell_type": "code",
   "execution_count": 651,
   "metadata": {},
   "outputs": [],
   "source": [
    "# Para volver a leer el modelo\n",
    "with open('my_model.model', 'rb') as archivo_entrada:\n",
    "    loaded_model = pickle.load(archivo_entrada)"
   ]
  },
  {
   "cell_type": "code",
   "execution_count": 646,
   "metadata": {},
   "outputs": [
    {
     "data": {
      "text/plain": [
       "0.9620803818909763"
      ]
     },
     "execution_count": 646,
     "metadata": {},
     "output_type": "execute_result"
    }
   ],
   "source": [
    "loaded_model.score(X_test,y_test)"
   ]
  },
  {
   "cell_type": "code",
   "execution_count": 647,
   "metadata": {},
   "outputs": [
    {
     "data": {
      "text/plain": [
       "array([0, 1, 0, ..., 1, 0, 0])"
      ]
     },
     "execution_count": 647,
     "metadata": {},
     "output_type": "execute_result"
    }
   ],
   "source": [
    "loaded_model.predict(X_test)"
   ]
  }
 ],
 "metadata": {
  "interpreter": {
   "hash": "aee8b7b246df8f9039afb4144a1f6fd8d2ca17a180786b69acc140d282b71a49"
  },
  "kernelspec": {
   "display_name": "Python 3.7.4 64-bit",
   "language": "python",
   "name": "python3"
  },
  "language_info": {
   "codemirror_mode": {
    "name": "ipython",
    "version": 3
   },
   "file_extension": ".py",
   "mimetype": "text/x-python",
   "name": "python",
   "nbconvert_exporter": "python",
   "pygments_lexer": "ipython3",
   "version": "3.7.4"
  },
  "orig_nbformat": 4
 },
 "nbformat": 4,
 "nbformat_minor": 2
}
